{
 "cells": [
  {
   "cell_type": "code",
   "execution_count": 2,
   "metadata": {},
   "outputs": [],
   "source": [
    "import pandas as pd\n",
    "import datetime as dt\n",
    "import numpy as np\n",
    "import csv\n",
    "import calendar\n",
    "\n",
    "import os,sys,inspect\n",
    "current_dir = os.path.dirname(os.path.abspath(inspect.getfile(inspect.currentframe())))\n",
    "#parent_dir = os.paths.dirname(current_dir)\n",
    "sys.path.insert(0, current_dir) \n",
    "from environmentVariables import environment_variables"
   ]
  },
  {
   "cell_type": "code",
   "execution_count": 3,
   "metadata": {},
   "outputs": [],
   "source": [
    "user_key=environment_variables['mahaveer']\n",
    "pd.set_option('display.precision', 12)"
   ]
  },
  {
   "cell_type": "code",
   "execution_count": 4,
   "metadata": {},
   "outputs": [],
   "source": [
    "# read files\n",
    "\n"
   ]
  },
  {
   "cell_type": "code",
   "execution_count": 5,
   "metadata": {},
   "outputs": [],
   "source": [
    "#Insert Inputs HERE\n",
    "\n",
    "#lat and long are currently not relevant\n",
    "\n",
    "#date range I want infor for\n",
    "startDate = dt.datetime(1992, 5, 17)\n",
    "endDate = dt.datetime(1994, 2, 12)\n",
    "\n",
    "\n",
    "\n",
    "#variable I want \n",
    "variable = 'tas'\n",
    "\n"
   ]
  },
  {
   "cell_type": "code",
   "execution_count": 6,
   "metadata": {},
   "outputs": [],
   "source": [
    "#use the variable and time to get the data i want\n",
    "\n",
    "#we need to figure out the time as well but we can do this after \n",
    "\n",
    "data=pd.read_csv(user_key['csv_loc_raw']+'/'+variable+'/'+variable+'_converted_output_1991-1995.csv')\n",
    "\n"
   ]
  },
  {
   "cell_type": "code",
   "execution_count": 7,
   "metadata": {},
   "outputs": [
    {
     "data": {
      "text/plain": [
       "1825"
      ]
     },
     "execution_count": 7,
     "metadata": {},
     "output_type": "execute_result"
    }
   ],
   "source": [
    "len(data)"
   ]
  },
  {
   "cell_type": "code",
   "execution_count": 8,
   "metadata": {},
   "outputs": [],
   "source": [
    "#now that we have the right model file csv, we need to get the observational data csv\n",
    "\n",
    "if variable =='rsds':\n",
    "    observeData=pd.read_excel(user_key['GSOD_Loc']+'WRDC.xlsx',sheet_name=2)\n",
    "else:\n",
    "    observeData=pd.read_excel(user_key['GSOD_Loc']+'GSOD.xlsx',sheet_name=2)\n"
   ]
  },
  {
   "cell_type": "code",
   "execution_count": 9,
   "metadata": {},
   "outputs": [],
   "source": [
    "data['Date'] =  pd.to_datetime(data['Date'], format='%Y-%m-%d')"
   ]
  },
  {
   "cell_type": "code",
   "execution_count": 11,
   "metadata": {},
   "outputs": [
    {
     "name": "stdout",
     "output_type": "stream",
     "text": [
      "          Date  Observedtas  Observed_Celciustas   Modeltas  Model_Celciustas\n",
      "0   1992-05-17         59.9      15.500000000000  47.055020           8.36390\n",
      "1   1992-05-18         57.0      13.888888888889  48.330680           9.07260\n",
      "2   1992-05-19         56.0      13.333333333333  51.399500          10.77750\n",
      "3   1992-05-20         58.2      14.555555555556  51.893474          11.05193\n",
      "4   1992-05-21         63.7      17.611111111111  52.383686          11.32427\n",
      "..         ...          ...                  ...        ...               ...\n",
      "632 1994-02-08          5.2     -14.888888888889  34.662920           1.47940\n",
      "633 1994-02-09          3.9     -15.611111111111  31.954946          -0.02503\n",
      "634 1994-02-10          5.7     -14.611111111111  31.189532          -0.45026\n",
      "635 1994-02-11         14.1      -9.944444444444  30.763760          -0.68680\n",
      "636 1994-02-12         19.5      -6.944444444444  30.211034          -0.99387\n",
      "\n",
      "[637 rows x 5 columns]\n"
     ]
    }
   ],
   "source": [
    "#now we read the coulmn we need based on the variable \n",
    "\n",
    "if variable == 'tas':\n",
    "    #then it is TEMP in the data, find the column\n",
    "    coulmn = 'TEMP'\n",
    "    \n",
    "#with the date range\n",
    "row_iterator = observeData.iterrows()\n",
    "counter =0\n",
    "\n",
    "dates = []\n",
    "observedData = []\n",
    "observedData1 = []\n",
    "modelData = []\n",
    "modelData1 = []\n",
    "\n",
    "for i, row in row_iterator:\n",
    "        if counter != len(observeData):\n",
    "            if observeData.at[i,'DATE'] >= startDate and observeData.at[i,'DATE'] <= endDate:\n",
    "                dates.append(observeData.at[i,'DATE'])\n",
    "                observedData.append(observeData.at[i,'TEMP'])          \n",
    "                observedData1.append( ((observeData.at[i,'TEMP'] - 32)/1.8) )          \n",
    "        counter += 1\n",
    "        \n",
    "row_ittr2 = data.iterrows()\n",
    "counter =0\n",
    "for i, row in row_ittr2:\n",
    "        if counter != len(data):\n",
    "            if data.at[i,'Date'] >= startDate and data.at[i,'Date'] <= endDate:\n",
    "                modelData.append(data.at[i,'Variable_converted']) \n",
    "                modelData1.append( ( (data.at[i,'Variable_converted'] - 32) /1.8 ) )  \n",
    "        counter += 1\n",
    "        \n",
    "\n",
    "        \n",
    "#now we have all the variables in array now we create a dataframe\n",
    "data_all = pd.DataFrame()\n",
    "data_all.insert(0, 'Date', dates)\n",
    "data_all.insert(1, 'Observed'+variable, observedData)\n",
    "data_all.insert(2, 'Observed_Celcius'+variable, observedData1)\n",
    "data_all.insert(3, 'Model'+variable, modelData)\n",
    "data_all.insert(4, 'Model_Celcius'+variable, modelData1)\n",
    "\n",
    "\n",
    "\n",
    "print(data_all)"
   ]
  },
  {
   "cell_type": "code",
   "execution_count": 12,
   "metadata": {},
   "outputs": [],
   "source": [
    "data_all.to_csv(user_key['csv_loc_raw']+'/tas/tas_comparison_output_1991-1995.csv', index=None)"
   ]
  },
  {
   "cell_type": "code",
   "execution_count": null,
   "metadata": {},
   "outputs": [],
   "source": []
  }
 ],
 "metadata": {
  "kernelspec": {
   "display_name": "Python 3",
   "language": "python",
   "name": "python3"
  },
  "language_info": {
   "codemirror_mode": {
    "name": "ipython",
    "version": 3
   },
   "file_extension": ".py",
   "mimetype": "text/x-python",
   "name": "python",
   "nbconvert_exporter": "python",
   "pygments_lexer": "ipython3",
   "version": "3.8.5"
  }
 },
 "nbformat": 4,
 "nbformat_minor": 4
}
