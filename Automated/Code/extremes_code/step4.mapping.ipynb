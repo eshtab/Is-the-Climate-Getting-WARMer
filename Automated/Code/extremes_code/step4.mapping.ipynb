{
 "cells": [
  {
   "cell_type": "code",
   "execution_count": 4,
   "metadata": {},
   "outputs": [],
   "source": [
    "import pandas as pd\n",
    "import numpy as np\n",
    "import csv\n",
    "import calendar\n",
    "import plotly.graph_objs as go\n",
    "import plotly.express as px\n",
    "from plotly.subplots import make_subplots\n",
    "\n",
    "import dash\n",
    "import dash_table\n",
    "import dash_core_components as dcc\n",
    "import dash_html_components as html\n",
    "import datetime as dt\n",
    "\n",
    "import os,sys,inspect\n",
    "from dash.dependencies import Input, Output, State\n",
    "\n",
    "current_dir = os.path.dirname(os.path.abspath(inspect.getfile(inspect.currentframe())))\n",
    "parent_dir = os.path.dirname(current_dir)\n",
    "sys.path.insert(0, parent_dir) \n",
    "from environmentVariables import environment_variables"
   ]
  },
  {
   "cell_type": "code",
   "execution_count": 5,
   "metadata": {},
   "outputs": [],
   "source": [
    "user_key=environment_variables['eshta']\n",
    "pd.set_option('display.precision', 12)"
   ]
  },
  {
   "cell_type": "code",
   "execution_count": 6,
   "metadata": {},
   "outputs": [],
   "source": [
    "data=pd.read_csv(user_key['extremes_raw_clean']+'daily_normals_cleaned.csv')\n",
    "data2= pd.read_csv(user_key['extremes_raw_clean']+'daily_observed_cleaned_fornormalscomp.csv')\n",
    "data_monthly= pd.read_csv(user_key['extremes_raw_clean']+'monthly_normals_cleaned.csv')\n",
    "data_month = pd.read_csv(user_key['extremes_raw_clean']+'monthly_observed_cleaned_extravar.csv')"
   ]
  },
  {
   "cell_type": "code",
   "execution_count": 7,
   "metadata": {},
   "outputs": [],
   "source": [
    "data_final = pd.DataFrame()\n",
    "\n",
    "data_final['date']= pd.to_datetime(data['date'])\n",
    "\n",
    "data_final['max_temperature_normal']= data['max_temperature']\n",
    "data_final['max_temperature_observed']= data2['max_temperature']\n",
    "\n",
    "data_final['min_temperature_normal']= data['min_temperature']\n",
    "data_final['min_temperature_observed']= data2['min_temperature']\n",
    "\n",
    "data_final['max_relative_humidity_normal']= data['max_relative_humidity']\n",
    "data_final['max_relative_humidity_observed']= data2['max_relative_humidity']\n",
    "\n",
    "data_final['min_relative_humidity_normal']= data['min_relative_humidity']\n",
    "data_final['min_relative_humidity_observed']= data2['min_relative_humidity']\n",
    "\n",
    "data_final['max_wind_speed_normal']= data['max_wind_speed']\n",
    "data_final['max_wind_speed_observed']= data2['max_wind_speed']\n",
    "\n",
    "data_final['min_wind_speed_normal']= data['min_wind_speed']\n",
    "data_final['min_wind_speed_observed']= data2['min_wind_speed']\n",
    "\n",
    "data_final['precipitation_normal']= data['precipitation']\n",
    "data_final['precipitation_observed']= data2['precipitation']\n",
    "\n",
    "data_final['rain_normal']= data['rain']\n",
    "data_final['rain_observed']= data2['rain']\n",
    "\n",
    "data_final['snow_normal']= data['snow']\n",
    "data_final['snow_observed']= data2['snow']\n",
    "\n",
    "data_final['snow_on_ground_normal']= data['snow_on_ground']\n",
    "data_final['snow_on_ground_observed']= data2['snow_on_ground']\n"
   ]
  },
  {
   "cell_type": "code",
   "execution_count": 8,
   "metadata": {},
   "outputs": [],
   "source": [
    "# map it to normals monthly \n",
    "\n",
    "data_Monthly_final = pd.DataFrame()\n",
    "\n",
    "data_Monthly_final['date']= data_monthly['date']\n",
    "\n",
    "data_Monthly_final['max_temperature_normal']= data_monthly['max_temperature']\n",
    "data_Monthly_final['max_temperature_observed']= data_month['max_temperature']\n",
    "\n",
    "data_Monthly_final['min_temperature_normal']= data_monthly['min_temperature']\n",
    "data_Monthly_final['min_temperature_observed']= data_month['min_temperature']\n",
    "\n",
    "\n",
    "data_Monthly_final['max_relative_humidity_normal']= data_monthly['max_relative_humidity']\n",
    "data_Monthly_final['max_relative_humidity_observed']= data_month['max_relative_humidity']\n",
    "\n",
    "data_Monthly_final['min_relative_humidity_normal']= data_monthly['min_relative_humidity']\n",
    "data_Monthly_final['min_relative_humidity_observed']= data_month['min_relative_humidity']\n",
    "\n",
    "data_Monthly_final['max_wind_speed_normal']= data_monthly['max_wind_speed']\n",
    "data_Monthly_final['max_wind_speed_observed']= data_month['max_wind_speed']\n",
    "\n",
    "data_Monthly_final['min_wind_speed_normal']= data_monthly['min_wind_speed']\n",
    "data_Monthly_final['min_wind_speed_observed']= data_month['min_wind_speed']\n",
    "\n",
    "data_Monthly_final['precipitation_normal']= data_monthly['precipitation']\n",
    "data_Monthly_final['precipitation_observed']= data_month['precipitation']\n",
    "\n",
    "data_Monthly_final['rain_normal']= data_monthly['rain']\n",
    "data_Monthly_final['rain_observed']= data_month['rain']\n",
    "\n",
    "data_Monthly_final['snow_normal']= data_monthly['snow']\n",
    "data_Monthly_final['snow_observed']= data_month['snow']\n",
    "\n",
    "data_Monthly_final['snow_on_ground_normal']= data_monthly['snow_on_ground']\n",
    "data_Monthly_final['snow_on_ground_observed']= data_month['snow_on_ground']\n",
    "\n"
   ]
  },
  {
   "cell_type": "code",
   "execution_count": 9,
   "metadata": {},
   "outputs": [],
   "source": [
    "data_Monthly_final.to_csv(user_key['extremes_mapped']+'monthly_normal_observed_mapped.csv', index=None)\n",
    "data_final.to_csv(user_key['extremes_mapped']+'daily_normal_observed_mapped.csv', index=None)"
   ]
  },
  {
   "cell_type": "code",
   "execution_count": null,
   "metadata": {},
   "outputs": [],
   "source": []
  }
 ],
 "metadata": {
  "kernelspec": {
   "display_name": "Python 3",
   "language": "python",
   "name": "python3"
  },
  "language_info": {
   "codemirror_mode": {
    "name": "ipython",
    "version": 3
   },
   "file_extension": ".py",
   "mimetype": "text/x-python",
   "name": "python",
   "nbconvert_exporter": "python",
   "pygments_lexer": "ipython3",
   "version": "3.8.5"
  }
 },
 "nbformat": 4,
 "nbformat_minor": 4
}
