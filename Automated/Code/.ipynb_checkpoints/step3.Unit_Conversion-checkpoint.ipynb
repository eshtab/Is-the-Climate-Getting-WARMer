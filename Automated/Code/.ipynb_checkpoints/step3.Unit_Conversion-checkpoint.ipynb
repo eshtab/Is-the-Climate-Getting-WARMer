{
 "cells": [
  {
   "cell_type": "code",
   "execution_count": 5,
   "metadata": {},
   "outputs": [],
   "source": [
    "# import netCDF4\n",
    "import pandas as pd\n",
    "import datetime as dt\n",
    "import numpy as np\n",
    "import csv\n",
    "import calendar\n",
    "\n",
    "import os,sys,inspect\n",
    "current_dir = os.path.dirname(os.path.abspath(inspect.getfile(inspect.currentframe())))\n",
    "#parent_dir = os.paths.dirname(current_dir)\n",
    "sys.path.insert(0, current_dir) \n",
    "from environmentVariables import environment_variables"
   ]
  },
  {
   "cell_type": "code",
   "execution_count": 6,
   "metadata": {},
   "outputs": [],
   "source": [
    "user_key=environment_variables['eshta']\n",
    "pd.set_option('display.precision', 12)"
   ]
  },
  {
   "cell_type": "code",
   "execution_count": 7,
   "metadata": {},
   "outputs": [],
   "source": [
    "# read files\n",
    "data=pd.read_csv(user_key['extracted_loc_raw']+'/model_raw_clean/ps/ps_all_extrTO_1986-2005.csv')\n",
    "\n",
    "# conversion equation based on variable name\n",
    "variableName = \"ps\""
   ]
  },
  {
   "cell_type": "code",
   "execution_count": 8,
   "metadata": {},
   "outputs": [
    {
     "name": "stdout",
     "output_type": "stream",
     "text": [
      "            Date            Variable\n",
      "0     1986-01-01  97515.309999999998\n",
      "1     1986-01-02  97077.630000000005\n",
      "2     1986-01-03  98453.979999999996\n",
      "3     1986-01-04  99253.850000000006\n",
      "4     1986-01-05  98786.550000000003\n",
      "...          ...                 ...\n",
      "7295  2005-12-27  98315.250000000000\n",
      "7296  2005-12-28  98460.229999999996\n",
      "7297  2005-12-29  96754.169999999998\n",
      "7298  2005-12-30  97228.089999999997\n",
      "7299  2005-12-31  96740.229999999996\n",
      "\n",
      "[7300 rows x 2 columns]\n"
     ]
    }
   ],
   "source": [
    "print(data)"
   ]
  },
  {
   "cell_type": "code",
   "execution_count": 9,
   "metadata": {},
   "outputs": [
    {
     "name": "stdout",
     "output_type": "stream",
     "text": [
      "            Date            Variable  Variable_converted\n",
      "0     1986-01-01  97515.309999999998            97.51531\n",
      "1     1986-01-02  97077.630000000005            97.07763\n",
      "2     1986-01-03  98453.979999999996            98.45398\n",
      "3     1986-01-04  99253.850000000006            99.25385\n",
      "4     1986-01-05  98786.550000000003            98.78655\n",
      "...          ...                 ...                 ...\n",
      "7295  2005-12-27  98315.250000000000            98.31525\n",
      "7296  2005-12-28  98460.229999999996            98.46023\n",
      "7297  2005-12-29  96754.169999999998            96.75417\n",
      "7298  2005-12-30  97228.089999999997            97.22809\n",
      "7299  2005-12-31  96740.229999999996            96.74023\n",
      "\n",
      "[7300 rows x 3 columns]\n"
     ]
    }
   ],
   "source": [
    "\n",
    "# loop through the rows creating a new converted column    \n",
    "row_iterator = data.iterrows()   \n",
    "for i, row in row_iterator:\n",
    "    currVar = (data.at[i,'Variable'])\n",
    "    if (currVar != \"Variable\" ):\n",
    "        if (variableName == \"pr\"):\n",
    "            #1 kg/m2/s = 86400 mm/day\n",
    "            data.at[i, 'Variable_converted'] = (float(currVar) *  (86400))\n",
    "        elif (variableName == \"ps\"):\n",
    "            #1 pa\t0.001 kP\n",
    "             data.at[i, 'Variable_converted'] = (float(currVar) *  (0.001))\n",
    "        elif (variableName == \"rlds\"):\n",
    "            data.at[i, 'Variable_converted'] = (float(currVar))\n",
    "        elif (variableName == \"sfcWind\"):\n",
    "            #1 m/s\t3.6km/h\n",
    "            data.at[i, 'Variable_converted'] = (float(currVar) *  (3.6))\n",
    "        elif (variableName == \"sfcWindmax\"):\n",
    "            #1 m/s\t3.6km/h\n",
    "            data.at[i, 'Variable_converted'] = (float(currVar) *  (3.6))\n",
    "        elif (variableName == \"tas\"):\n",
    "            # 1K = -273 degrees celsius\n",
    "            data.at[i, 'Variable_converted'] = (float(currVar) - (273.15))\n",
    "        elif (variableName == \"tasmax\"):\n",
    "            # 1K = -273 degrees celsius\n",
    "            data.at[i, 'Variable_converted'] = (float(currVar) - (273.15))\n",
    "        elif (variableName == \"tasmin\"):\n",
    "            # 1K = -273 degrees celsius\n",
    "            data.at[i, 'Variable_converted'] = (float(currVar) - (273.15))\n",
    "                                  \n",
    "        \n",
    "print(data)\n"
   ]
  },
  {
   "cell_type": "code",
   "execution_count": 10,
   "metadata": {},
   "outputs": [],
   "source": [
    "# delete unnecessary columns\n",
    "del data['Variable']\n",
    "\n",
    "# rename column\n",
    "data = data.rename(columns={'Variable_converted': 'Variable'})"
   ]
  },
  {
   "cell_type": "code",
   "execution_count": 11,
   "metadata": {},
   "outputs": [
    {
     "data": {
      "text/html": [
       "<div>\n",
       "<style scoped>\n",
       "    .dataframe tbody tr th:only-of-type {\n",
       "        vertical-align: middle;\n",
       "    }\n",
       "\n",
       "    .dataframe tbody tr th {\n",
       "        vertical-align: top;\n",
       "    }\n",
       "\n",
       "    .dataframe thead th {\n",
       "        text-align: right;\n",
       "    }\n",
       "</style>\n",
       "<table border=\"1\" class=\"dataframe\">\n",
       "  <thead>\n",
       "    <tr style=\"text-align: right;\">\n",
       "      <th></th>\n",
       "      <th>Date</th>\n",
       "      <th>Variable</th>\n",
       "    </tr>\n",
       "  </thead>\n",
       "  <tbody>\n",
       "    <tr>\n",
       "      <th>0</th>\n",
       "      <td>1986-01-01</td>\n",
       "      <td>97.51531</td>\n",
       "    </tr>\n",
       "    <tr>\n",
       "      <th>1</th>\n",
       "      <td>1986-01-02</td>\n",
       "      <td>97.07763</td>\n",
       "    </tr>\n",
       "    <tr>\n",
       "      <th>2</th>\n",
       "      <td>1986-01-03</td>\n",
       "      <td>98.45398</td>\n",
       "    </tr>\n",
       "    <tr>\n",
       "      <th>3</th>\n",
       "      <td>1986-01-04</td>\n",
       "      <td>99.25385</td>\n",
       "    </tr>\n",
       "    <tr>\n",
       "      <th>4</th>\n",
       "      <td>1986-01-05</td>\n",
       "      <td>98.78655</td>\n",
       "    </tr>\n",
       "    <tr>\n",
       "      <th>...</th>\n",
       "      <td>...</td>\n",
       "      <td>...</td>\n",
       "    </tr>\n",
       "    <tr>\n",
       "      <th>7295</th>\n",
       "      <td>2005-12-27</td>\n",
       "      <td>98.31525</td>\n",
       "    </tr>\n",
       "    <tr>\n",
       "      <th>7296</th>\n",
       "      <td>2005-12-28</td>\n",
       "      <td>98.46023</td>\n",
       "    </tr>\n",
       "    <tr>\n",
       "      <th>7297</th>\n",
       "      <td>2005-12-29</td>\n",
       "      <td>96.75417</td>\n",
       "    </tr>\n",
       "    <tr>\n",
       "      <th>7298</th>\n",
       "      <td>2005-12-30</td>\n",
       "      <td>97.22809</td>\n",
       "    </tr>\n",
       "    <tr>\n",
       "      <th>7299</th>\n",
       "      <td>2005-12-31</td>\n",
       "      <td>96.74023</td>\n",
       "    </tr>\n",
       "  </tbody>\n",
       "</table>\n",
       "<p>7300 rows × 2 columns</p>\n",
       "</div>"
      ],
      "text/plain": [
       "            Date  Variable\n",
       "0     1986-01-01  97.51531\n",
       "1     1986-01-02  97.07763\n",
       "2     1986-01-03  98.45398\n",
       "3     1986-01-04  99.25385\n",
       "4     1986-01-05  98.78655\n",
       "...          ...       ...\n",
       "7295  2005-12-27  98.31525\n",
       "7296  2005-12-28  98.46023\n",
       "7297  2005-12-29  96.75417\n",
       "7298  2005-12-30  97.22809\n",
       "7299  2005-12-31  96.74023\n",
       "\n",
       "[7300 rows x 2 columns]"
      ]
     },
     "execution_count": 11,
     "metadata": {},
     "output_type": "execute_result"
    }
   ],
   "source": [
    "data"
   ]
  },
  {
   "cell_type": "code",
   "execution_count": 12,
   "metadata": {},
   "outputs": [],
   "source": [
    "data.to_csv(user_key['extracted_loc_raw']+'/model_raw_clean/ps/ps_allCONV_extrTO_1986-2005.csv', index=None)"
   ]
  },
  {
   "cell_type": "code",
   "execution_count": null,
   "metadata": {},
   "outputs": [],
   "source": []
  },
  {
   "cell_type": "code",
   "execution_count": null,
   "metadata": {},
   "outputs": [],
   "source": []
  },
  {
   "cell_type": "code",
   "execution_count": null,
   "metadata": {},
   "outputs": [],
   "source": []
  }
 ],
 "metadata": {
  "kernelspec": {
   "display_name": "Python 3",
   "language": "python",
   "name": "python3"
  },
  "language_info": {
   "codemirror_mode": {
    "name": "ipython",
    "version": 3
   },
   "file_extension": ".py",
   "mimetype": "text/x-python",
   "name": "python",
   "nbconvert_exporter": "python",
   "pygments_lexer": "ipython3",
   "version": "3.8.5"
  }
 },
 "nbformat": 4,
 "nbformat_minor": 4
}
