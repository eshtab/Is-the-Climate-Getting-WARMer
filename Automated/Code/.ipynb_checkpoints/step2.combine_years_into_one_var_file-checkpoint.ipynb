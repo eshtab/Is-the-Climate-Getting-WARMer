{
 "cells": [
  {
   "cell_type": "code",
   "execution_count": 1,
   "metadata": {},
   "outputs": [],
   "source": [
    "# import netCDF4\n",
    "import pandas as pd\n",
    "import datetime as dt\n",
    "import numpy as np\n",
    "import csv\n",
    "import calendar\n",
    "\n",
    "import os,sys,inspect\n",
    "current_dir = os.path.dirname(os.path.abspath(inspect.getfile(inspect.currentframe())))\n",
    "#parent_dir = os.paths.dirname(current_dir)\n",
    "sys.path.insert(0, current_dir) \n",
    "from environmentVariables import environment_variables"
   ]
  },
  {
   "cell_type": "code",
   "execution_count": 2,
   "metadata": {},
   "outputs": [],
   "source": [
    "user_key=environment_variables['eshta']\n",
    "pd.set_option('display.precision', 12)"
   ]
  },
  {
   "cell_type": "markdown",
   "metadata": {},
   "source": [
    "# INPUT"
   ]
  },
  {
   "cell_type": "code",
   "execution_count": 39,
   "metadata": {},
   "outputs": [],
   "source": [
    "# read files\n",
    "\n",
    "data_one=pd.read_csv(user_key['extracted_loc_raw']+'/model_raw_clean/tasmin/tasmin_extrTO_1986-1990.csv')\n",
    "data_two=pd.read_csv(user_key['extracted_loc_raw']+'/model_raw_clean/tasmin/tasmin_extrTO_1991-1995.csv')\n",
    "data_three=pd.read_csv(user_key['extracted_loc_raw']+'/model_raw_clean/tasmin/tasmin_extrTO_1996-2000.csv')\n",
    "data_four=pd.read_csv(user_key['extracted_loc_raw']+'/model_raw_clean/tasmin/tasmin_extrTO_2001-2005.csv')\n"
   ]
  },
  {
   "cell_type": "markdown",
   "metadata": {},
   "source": [
    "# MERGE"
   ]
  },
  {
   "cell_type": "code",
   "execution_count": 40,
   "metadata": {},
   "outputs": [],
   "source": [
    "frames = [data_one, data_two, data_three, data_four]\n",
    "result = pd.concat(frames)"
   ]
  },
  {
   "cell_type": "code",
   "execution_count": 41,
   "metadata": {},
   "outputs": [
    {
     "data": {
      "text/plain": [
       "[            Date   Variable\n",
       " 0     1986-01-01  268.80533\n",
       " 1     1986-01-02  265.16980\n",
       " 2     1986-01-03  263.51825\n",
       " 3     1986-01-04  260.85720\n",
       " 4     1986-01-05  260.72842\n",
       " ...          ...        ...\n",
       " 1820  1990-12-27  267.58475\n",
       " 1821  1990-12-28  265.32404\n",
       " 1822  1990-12-29  261.41806\n",
       " 1823  1990-12-30  262.80725\n",
       " 1824  1990-12-31  271.83908\n",
       " \n",
       " [1825 rows x 2 columns],\n",
       "             Date   Variable\n",
       " 0     1991-01-01  272.68848\n",
       " 1     1991-01-02  275.27792\n",
       " 2     1991-01-03  269.37520\n",
       " 3     1991-01-04  268.46545\n",
       " 4     1991-01-05  268.91818\n",
       " ...          ...        ...\n",
       " 1820  1995-12-27  273.05933\n",
       " 1821  1995-12-28  274.81522\n",
       " 1822  1995-12-29  272.51288\n",
       " 1823  1995-12-30  271.85670\n",
       " 1824  1995-12-31  273.43765\n",
       " \n",
       " [1825 rows x 2 columns],\n",
       "             Date   Variable\n",
       " 0     1996-01-01  272.04855\n",
       " 1     1996-01-02  271.95550\n",
       " 2     1996-01-03  273.07135\n",
       " 3     1996-01-04  271.22845\n",
       " 4     1996-01-05  264.83432\n",
       " ...          ...        ...\n",
       " 1820  2000-12-27  269.15854\n",
       " 1821  2000-12-28  268.64300\n",
       " 1822  2000-12-29  270.31110\n",
       " 1823  2000-12-30  266.61163\n",
       " 1824  2000-12-31  269.01500\n",
       " \n",
       " [1825 rows x 2 columns],\n",
       "             Date   Variable\n",
       " 0     2001-01-01  266.12506\n",
       " 1     2001-01-02  267.93008\n",
       " 2     2001-01-03  270.53894\n",
       " 3     2001-01-04  276.02680\n",
       " 4     2001-01-05  272.79110\n",
       " ...          ...        ...\n",
       " 1820  2005-12-27  272.24738\n",
       " 1821  2005-12-28  272.01850\n",
       " 1822  2005-12-29  274.22223\n",
       " 1823  2005-12-30  273.85046\n",
       " 1824  2005-12-31  273.55300\n",
       " \n",
       " [1825 rows x 2 columns]]"
      ]
     },
     "execution_count": 41,
     "metadata": {},
     "output_type": "execute_result"
    }
   ],
   "source": [
    "frames"
   ]
  },
  {
   "cell_type": "code",
   "execution_count": 42,
   "metadata": {},
   "outputs": [],
   "source": [
    "result.to_csv(user_key['extracted_loc_raw']+'/model_raw_clean/tasmin/tasmin_all_extrTO_1986-2005.csv', index=None)"
   ]
  },
  {
   "cell_type": "code",
   "execution_count": null,
   "metadata": {},
   "outputs": [],
   "source": []
  },
  {
   "cell_type": "code",
   "execution_count": null,
   "metadata": {},
   "outputs": [],
   "source": []
  },
  {
   "cell_type": "code",
   "execution_count": null,
   "metadata": {},
   "outputs": [],
   "source": []
  }
 ],
 "metadata": {
  "kernelspec": {
   "display_name": "Python 3",
   "language": "python",
   "name": "python3"
  },
  "language_info": {
   "codemirror_mode": {
    "name": "ipython",
    "version": 3
   },
   "file_extension": ".py",
   "mimetype": "text/x-python",
   "name": "python",
   "nbconvert_exporter": "python",
   "pygments_lexer": "ipython3",
   "version": "3.8.5"
  }
 },
 "nbformat": 4,
 "nbformat_minor": 4
}
