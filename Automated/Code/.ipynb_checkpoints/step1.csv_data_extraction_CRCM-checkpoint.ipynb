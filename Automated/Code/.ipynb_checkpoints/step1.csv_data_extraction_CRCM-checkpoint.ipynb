{
 "cells": [
  {
   "cell_type": "code",
   "execution_count": 1,
   "metadata": {},
   "outputs": [],
   "source": [
    "# import netCDF4\n",
    "import pandas as pd\n",
    "import datetime as dt\n",
    "import numpy as np\n",
    "import csv\n",
    "import calendar\n",
    "\n",
    "import os,sys,inspect\n",
    "current_dir = os.path.dirname(os.path.abspath(inspect.getfile(inspect.currentframe())))\n",
    "#parent_dir = os.paths.dirname(current_dir)\n",
    "sys.path.insert(0, current_dir) \n",
    "from environmentVariables import environment_variables"
   ]
  },
  {
   "cell_type": "code",
   "execution_count": 2,
   "metadata": {},
   "outputs": [],
   "source": [
    "user_key=environment_variables['eshta']\n",
    "pd.set_option('display.precision', 12)"
   ]
  },
  {
   "cell_type": "markdown",
   "metadata": {},
   "source": [
    "# INPUT"
   ]
  },
  {
   "cell_type": "code",
   "execution_count": 708,
   "metadata": {},
   "outputs": [],
   "source": [
    "# read files\n",
    "\n",
    "data=pd.read_csv(user_key['path_in']+'/tasmin/tasmin_20010101-20051231.csv', header=None)\n",
    "data_time = pd.read_csv(user_key['path_in']+'/tasmin/time_20010101-20051231.csv', header=None)"
   ]
  },
  {
   "cell_type": "code",
   "execution_count": 709,
   "metadata": {
    "scrolled": true
   },
   "outputs": [
    {
     "name": "stdout",
     "output_type": "stream",
     "text": [
      "474500\n"
     ]
    }
   ],
   "source": [
    "print(len(data))\n",
    "# print(data)"
   ]
  },
  {
   "cell_type": "code",
   "execution_count": 710,
   "metadata": {},
   "outputs": [
    {
     "data": {
      "text/html": [
       "<div>\n",
       "<style scoped>\n",
       "    .dataframe tbody tr th:only-of-type {\n",
       "        vertical-align: middle;\n",
       "    }\n",
       "\n",
       "    .dataframe tbody tr th {\n",
       "        vertical-align: top;\n",
       "    }\n",
       "\n",
       "    .dataframe thead th {\n",
       "        text-align: right;\n",
       "    }\n",
       "</style>\n",
       "<table border=\"1\" class=\"dataframe\">\n",
       "  <thead>\n",
       "    <tr style=\"text-align: right;\">\n",
       "      <th></th>\n",
       "      <th>0</th>\n",
       "      <th>1</th>\n",
       "      <th>2</th>\n",
       "      <th>3</th>\n",
       "    </tr>\n",
       "  </thead>\n",
       "  <tbody>\n",
       "    <tr>\n",
       "      <th>0</th>\n",
       "      <td>298.10632</td>\n",
       "      <td>298.07672</td>\n",
       "      <td>298.06058</td>\n",
       "      <td>298.03635</td>\n",
       "    </tr>\n",
       "    <tr>\n",
       "      <th>1</th>\n",
       "      <td>297.95428</td>\n",
       "      <td>297.93140</td>\n",
       "      <td>297.90717</td>\n",
       "      <td>297.87488</td>\n",
       "    </tr>\n",
       "    <tr>\n",
       "      <th>2</th>\n",
       "      <td>297.79280</td>\n",
       "      <td>297.75107</td>\n",
       "      <td>297.71475</td>\n",
       "      <td>297.67706</td>\n",
       "    </tr>\n",
       "    <tr>\n",
       "      <th>3</th>\n",
       "      <td>297.59903</td>\n",
       "      <td>297.55328</td>\n",
       "      <td>297.51425</td>\n",
       "      <td>297.47253</td>\n",
       "    </tr>\n",
       "    <tr>\n",
       "      <th>4</th>\n",
       "      <td>297.38240</td>\n",
       "      <td>297.33260</td>\n",
       "      <td>297.29626</td>\n",
       "      <td>297.24243</td>\n",
       "    </tr>\n",
       "  </tbody>\n",
       "</table>\n",
       "</div>"
      ],
      "text/plain": [
       "           0          1          2          3\n",
       "0  298.10632  298.07672  298.06058  298.03635\n",
       "1  297.95428  297.93140  297.90717  297.87488\n",
       "2  297.79280  297.75107  297.71475  297.67706\n",
       "3  297.59903  297.55328  297.51425  297.47253\n",
       "4  297.38240  297.33260  297.29626  297.24243"
      ]
     },
     "execution_count": 710,
     "metadata": {},
     "output_type": "execute_result"
    }
   ],
   "source": [
    "# first position\n",
    "data.iloc[0:5, 0:4]"
   ]
  },
  {
   "cell_type": "code",
   "execution_count": 711,
   "metadata": {},
   "outputs": [
    {
     "data": {
      "text/html": [
       "<div>\n",
       "<style scoped>\n",
       "    .dataframe tbody tr th:only-of-type {\n",
       "        vertical-align: middle;\n",
       "    }\n",
       "\n",
       "    .dataframe tbody tr th {\n",
       "        vertical-align: top;\n",
       "    }\n",
       "\n",
       "    .dataframe thead th {\n",
       "        text-align: right;\n",
       "    }\n",
       "</style>\n",
       "<table border=\"1\" class=\"dataframe\">\n",
       "  <thead>\n",
       "    <tr style=\"text-align: right;\">\n",
       "      <th></th>\n",
       "      <th>210</th>\n",
       "      <th>211</th>\n",
       "      <th>212</th>\n",
       "      <th>213</th>\n",
       "    </tr>\n",
       "  </thead>\n",
       "  <tbody>\n",
       "    <tr>\n",
       "      <th>117</th>\n",
       "      <td>267.43300</td>\n",
       "      <td>267.29843</td>\n",
       "      <td>266.93646</td>\n",
       "      <td>267.30652</td>\n",
       "    </tr>\n",
       "    <tr>\n",
       "      <th>118</th>\n",
       "      <td>267.12890</td>\n",
       "      <td>267.31458</td>\n",
       "      <td>273.87985</td>\n",
       "      <td>274.04670</td>\n",
       "    </tr>\n",
       "    <tr>\n",
       "      <th>119</th>\n",
       "      <td>266.64716</td>\n",
       "      <td>266.12506</td>\n",
       "      <td>274.00500</td>\n",
       "      <td>274.22568</td>\n",
       "    </tr>\n",
       "    <tr>\n",
       "      <th>120</th>\n",
       "      <td>265.88420</td>\n",
       "      <td>265.30826</td>\n",
       "      <td>265.40380</td>\n",
       "      <td>273.88120</td>\n",
       "    </tr>\n",
       "    <tr>\n",
       "      <th>121</th>\n",
       "      <td>265.53836</td>\n",
       "      <td>265.08893</td>\n",
       "      <td>264.29907</td>\n",
       "      <td>264.60990</td>\n",
       "    </tr>\n",
       "  </tbody>\n",
       "</table>\n",
       "</div>"
      ],
      "text/plain": [
       "           210        211        212        213\n",
       "117  267.43300  267.29843  266.93646  267.30652\n",
       "118  267.12890  267.31458  273.87985  274.04670\n",
       "119  266.64716  266.12506  274.00500  274.22568\n",
       "120  265.88420  265.30826  265.40380  273.88120\n",
       "121  265.53836  265.08893  264.29907  264.60990"
      ]
     },
     "execution_count": 711,
     "metadata": {},
     "output_type": "execute_result"
    }
   ],
   "source": [
    "# values around first position for toronto\n",
    "data.iloc[117:122, 210:214]"
   ]
  },
  {
   "cell_type": "code",
   "execution_count": 712,
   "metadata": {},
   "outputs": [
    {
     "name": "stdout",
     "output_type": "stream",
     "text": [
      "266.12506\n"
     ]
    }
   ],
   "source": [
    "# first position for toronto\n",
    "var = data.iloc[119, 211] \n",
    "print(var)"
   ]
  },
  {
   "cell_type": "code",
   "execution_count": 713,
   "metadata": {},
   "outputs": [
    {
     "data": {
      "text/html": [
       "<div>\n",
       "<style scoped>\n",
       "    .dataframe tbody tr th:only-of-type {\n",
       "        vertical-align: middle;\n",
       "    }\n",
       "\n",
       "    .dataframe tbody tr th {\n",
       "        vertical-align: top;\n",
       "    }\n",
       "\n",
       "    .dataframe thead th {\n",
       "        text-align: right;\n",
       "    }\n",
       "</style>\n",
       "<table border=\"1\" class=\"dataframe\">\n",
       "  <thead>\n",
       "    <tr style=\"text-align: right;\">\n",
       "      <th></th>\n",
       "      <th>212</th>\n",
       "      <th>213</th>\n",
       "      <th>214</th>\n",
       "      <th>215</th>\n",
       "      <th>216</th>\n",
       "    </tr>\n",
       "  </thead>\n",
       "  <tbody>\n",
       "    <tr>\n",
       "      <th>378</th>\n",
       "      <td>274.40125</td>\n",
       "      <td>274.51413</td>\n",
       "      <td>270.50880</td>\n",
       "      <td>271.43120</td>\n",
       "      <td>271.07200</td>\n",
       "    </tr>\n",
       "    <tr>\n",
       "      <th>379</th>\n",
       "      <td>274.27167</td>\n",
       "      <td>274.54750</td>\n",
       "      <td>274.65652</td>\n",
       "      <td>274.63217</td>\n",
       "      <td>271.98544</td>\n",
       "    </tr>\n",
       "    <tr>\n",
       "      <th>380</th>\n",
       "      <td>268.00192</td>\n",
       "      <td>274.27680</td>\n",
       "      <td>274.59753</td>\n",
       "      <td>274.70657</td>\n",
       "      <td>274.65652</td>\n",
       "    </tr>\n",
       "    <tr>\n",
       "      <th>381</th>\n",
       "      <td>266.41748</td>\n",
       "      <td>267.61447</td>\n",
       "      <td>274.14978</td>\n",
       "      <td>274.48718</td>\n",
       "      <td>274.67834</td>\n",
       "    </tr>\n",
       "  </tbody>\n",
       "</table>\n",
       "</div>"
      ],
      "text/plain": [
       "           212        213        214        215        216\n",
       "378  274.40125  274.51413  270.50880  271.43120  271.07200\n",
       "379  274.27167  274.54750  274.65652  274.63217  271.98544\n",
       "380  268.00192  274.27680  274.59753  274.70657  274.65652\n",
       "381  266.41748  267.61447  274.14978  274.48718  274.67834"
      ]
     },
     "execution_count": 713,
     "metadata": {},
     "output_type": "execute_result"
    }
   ],
   "source": [
    "# values around second position for toronto\n",
    "data.iloc[378:382, 212:217]"
   ]
  },
  {
   "cell_type": "code",
   "execution_count": 714,
   "metadata": {},
   "outputs": [
    {
     "name": "stdout",
     "output_type": "stream",
     "text": [
      "267.93008\n"
     ]
    }
   ],
   "source": [
    "# second position for toronto\n",
    "counter = 260\n",
    "var = data.iloc[119+counter, 211] \n",
    "print(var)"
   ]
  },
  {
   "cell_type": "markdown",
   "metadata": {},
   "source": [
    "# Calculate num of leap years"
   ]
  },
  {
   "cell_type": "code",
   "execution_count": 715,
   "metadata": {},
   "outputs": [],
   "source": [
    "# Input list initialization\n",
    "input_list = [1950, 1951, 1952, 1953, 1954, 1955,\n",
    "         1956, 1957, 1958, 1959, 1960,\n",
    "         1961, 1962, 1963, 1964, 1965, \n",
    "         1966, 1967, 1968, 1969, 1970, \n",
    "         1971, 1972, 1973, 1974, 1975, \n",
    "         1976, 1977, 1978, 1979, 1980, \n",
    "         1981, 1982, 1983, 1984, 1985\n",
    "        ,1986, 1987, 1988, 1989, 1990\n",
    "        ,1991, 1992, 1993, 1994, 1995\n",
    "        ,1996, 1997, 1998, 1999, 2000\n",
    "        ]"
   ]
  },
  {
   "cell_type": "code",
   "execution_count": 716,
   "metadata": {},
   "outputs": [
    {
     "name": "stdout",
     "output_type": "stream",
     "text": [
      "13\n"
     ]
    }
   ],
   "source": [
    "def findLeapYear(input_list):\n",
    "    ans = 0\n",
    "    for elem in input_list:\n",
    "        if calendar.isleap(int(elem)):\n",
    "            ans = ans + 1\n",
    "    return ans\n",
    "\n",
    "numleap = findLeapYear(input_list)\n",
    "print(numleap)"
   ]
  },
  {
   "cell_type": "markdown",
   "metadata": {},
   "source": [
    "# Extract based on rlat and rlon"
   ]
  },
  {
   "cell_type": "code",
   "execution_count": 717,
   "metadata": {},
   "outputs": [
    {
     "data": {
      "text/plain": [
       "1825"
      ]
     },
     "execution_count": 717,
     "metadata": {},
     "output_type": "execute_result"
    }
   ],
   "source": [
    "rlon_x = 211 # adjusted from 212 since headers start at 0\n",
    "rlat_y = 119 # adjusted from 120 since index starts at 0\n",
    "counter = 0\n",
    "\n",
    "list_of_vars = []\n",
    "\n",
    " \n",
    "while (rlat_y+counter) < len(data)-1:\n",
    "    var = data.iloc[rlat_y+counter, rlon_x]\n",
    "    list_of_vars.append(var)\n",
    "        \n",
    "    counter+=260 \n",
    "\n",
    "len(list_of_vars) #should always be 1825"
   ]
  },
  {
   "cell_type": "code",
   "execution_count": 718,
   "metadata": {},
   "outputs": [],
   "source": [
    "#read data_time and transpose into column and append variable and date info to new df\n",
    "data_all = data_time.transpose()\n",
    "data_all.insert(1, 'Variable', list_of_vars)\n",
    "data_all = data_all.rename(columns={0: 'Date'})"
   ]
  },
  {
   "cell_type": "code",
   "execution_count": 719,
   "metadata": {},
   "outputs": [
    {
     "data": {
      "text/html": [
       "<div>\n",
       "<style scoped>\n",
       "    .dataframe tbody tr th:only-of-type {\n",
       "        vertical-align: middle;\n",
       "    }\n",
       "\n",
       "    .dataframe tbody tr th {\n",
       "        vertical-align: top;\n",
       "    }\n",
       "\n",
       "    .dataframe thead th {\n",
       "        text-align: right;\n",
       "    }\n",
       "</style>\n",
       "<table border=\"1\" class=\"dataframe\">\n",
       "  <thead>\n",
       "    <tr style=\"text-align: right;\">\n",
       "      <th></th>\n",
       "      <th>Date</th>\n",
       "      <th>Variable</th>\n",
       "    </tr>\n",
       "  </thead>\n",
       "  <tbody>\n",
       "    <tr>\n",
       "      <th>0</th>\n",
       "      <td>18646.5</td>\n",
       "      <td>266.12506</td>\n",
       "    </tr>\n",
       "    <tr>\n",
       "      <th>1</th>\n",
       "      <td>18647.5</td>\n",
       "      <td>267.93008</td>\n",
       "    </tr>\n",
       "    <tr>\n",
       "      <th>2</th>\n",
       "      <td>18648.5</td>\n",
       "      <td>270.53894</td>\n",
       "    </tr>\n",
       "    <tr>\n",
       "      <th>3</th>\n",
       "      <td>18649.5</td>\n",
       "      <td>276.02680</td>\n",
       "    </tr>\n",
       "    <tr>\n",
       "      <th>4</th>\n",
       "      <td>18650.5</td>\n",
       "      <td>272.79110</td>\n",
       "    </tr>\n",
       "    <tr>\n",
       "      <th>...</th>\n",
       "      <td>...</td>\n",
       "      <td>...</td>\n",
       "    </tr>\n",
       "    <tr>\n",
       "      <th>1820</th>\n",
       "      <td>20466.5</td>\n",
       "      <td>272.24738</td>\n",
       "    </tr>\n",
       "    <tr>\n",
       "      <th>1821</th>\n",
       "      <td>20467.5</td>\n",
       "      <td>272.01850</td>\n",
       "    </tr>\n",
       "    <tr>\n",
       "      <th>1822</th>\n",
       "      <td>20468.5</td>\n",
       "      <td>274.22223</td>\n",
       "    </tr>\n",
       "    <tr>\n",
       "      <th>1823</th>\n",
       "      <td>20469.5</td>\n",
       "      <td>273.85046</td>\n",
       "    </tr>\n",
       "    <tr>\n",
       "      <th>1824</th>\n",
       "      <td>20470.5</td>\n",
       "      <td>273.55300</td>\n",
       "    </tr>\n",
       "  </tbody>\n",
       "</table>\n",
       "<p>1825 rows × 2 columns</p>\n",
       "</div>"
      ],
      "text/plain": [
       "         Date   Variable\n",
       "0     18646.5  266.12506\n",
       "1     18647.5  267.93008\n",
       "2     18648.5  270.53894\n",
       "3     18649.5  276.02680\n",
       "4     18650.5  272.79110\n",
       "...       ...        ...\n",
       "1820  20466.5  272.24738\n",
       "1821  20467.5  272.01850\n",
       "1822  20468.5  274.22223\n",
       "1823  20469.5  273.85046\n",
       "1824  20470.5  273.55300\n",
       "\n",
       "[1825 rows x 2 columns]"
      ]
     },
     "execution_count": 719,
     "metadata": {},
     "output_type": "execute_result"
    }
   ],
   "source": [
    "data_all"
   ]
  },
  {
   "cell_type": "markdown",
   "metadata": {},
   "source": [
    "# Change time units - new"
   ]
  },
  {
   "cell_type": "code",
   "execution_count": 720,
   "metadata": {},
   "outputs": [],
   "source": [
    "startdate = \"12/01/1949\"\n",
    "temp = pd.to_datetime(startdate) + pd.DateOffset(days= 13171.5 +numleap)"
   ]
  },
  {
   "cell_type": "code",
   "execution_count": 721,
   "metadata": {},
   "outputs": [
    {
     "name": "stdout",
     "output_type": "stream",
     "text": [
      "1986-01-05 12:00:00\n"
     ]
    }
   ],
   "source": [
    "print(temp)"
   ]
  },
  {
   "cell_type": "code",
   "execution_count": 722,
   "metadata": {},
   "outputs": [],
   "source": [
    "# change time units from 'days since 12/01/1949' to actual date\n",
    "startdate = \"12/01/1949\"\n",
    "row_iterator = data_all.iterrows()\n",
    "counter = 1\n",
    "\n",
    "for i, row in row_iterator:\n",
    "    if counter != len(data_all)+1:\n",
    "        #temp = pd.to_datetime(startdate) + pd.DateOffset(days=data_all.at[i, 'Date']+9)\n",
    "        #if temp.month != 2 and temp.day != 29:\n",
    "            #data_all.at[i, 'Date_new'] = pd.to_datetime(temp)\n",
    "        data_all.at[i, 'Date_new'] = pd.to_datetime(startdate) + \\\n",
    "                                     pd.DateOffset(days=data_all.at[i, 'Date']+numleap)\n",
    "            #data_all.at[i, 'Date_new2'] = pd.to_datetime(data_all.at[i, 'Date_new']) + pd.DateOffset(days=9)\n",
    "            \n",
    "    counter += 1\n",
    "\n",
    "data_all['Date_new'] = pd.to_datetime(data_all['Date_new']).dt.date"
   ]
  },
  {
   "cell_type": "code",
   "execution_count": 723,
   "metadata": {},
   "outputs": [],
   "source": [
    "# flag leap years\n",
    "\n",
    "row_iterator = data_all.iterrows()\n",
    "counter = 1\n",
    "\n",
    "for i, row in row_iterator:\n",
    "    if counter != len(data_all)+1:\n",
    "        if data_all.at[i, 'Date_new'].month == 2 and data_all.at[i, 'Date_new'].day == 29:\n",
    "             data_all.at[i, 'flag'] = 'flag'\n",
    "\n",
    "    counter += 1"
   ]
  },
  {
   "cell_type": "code",
   "execution_count": 724,
   "metadata": {},
   "outputs": [],
   "source": [
    "# if flag, change flagged date to +1\n",
    "\n",
    "row_iterator = data_all.iterrows()\n",
    "counter2 = 1\n",
    "\n",
    "for i, row in row_iterator:\n",
    "    if counter2 != len(data_all)+1:\n",
    "        if data_all.at[i, 'flag'] == 'flag':\n",
    "            data_all.at[i, 'Date_2'] = data_all.at[i+1, 'Date_new']\n",
    "    counter2+=1   "
   ]
  },
  {
   "cell_type": "code",
   "execution_count": 725,
   "metadata": {},
   "outputs": [],
   "source": [
    "# copy over date from before if Date_2 is null \n",
    "# otherwise keep the value in Date_2\n",
    "\n",
    "row_iterator = data_all.iterrows()\n",
    "counter3 = 1\n",
    "numberofflags = 0\n",
    "\n",
    "for i, row in row_iterator:\n",
    "    if counter3 != len(data_all)+1:\n",
    "        if data_all.at[i, 'flag'] == 'flag':\n",
    "            numberofflags+=1\n",
    "        temp = data_all.at[i, 'Date_new'] + pd.DateOffset(days=numberofflags)\n",
    "        if (temp.month == 2 and temp.day == 29):\n",
    "            data_all.at[i, 'Date_2'] = data_all.at[i, 'Date_new'] + pd.DateOffset(days=numberofflags+1)\n",
    "        else:\n",
    "            data_all.at[i, 'Date_2'] = data_all.at[i, 'Date_new'] + pd.DateOffset(days=numberofflags)\n",
    "\n",
    "\n",
    "    counter3+=1\n",
    "\n",
    "data_all['Date_2'] = pd.to_datetime(data_all['Date_2']).dt.date"
   ]
  },
  {
   "cell_type": "code",
   "execution_count": 726,
   "metadata": {},
   "outputs": [
    {
     "data": {
      "text/html": [
       "<div>\n",
       "<style scoped>\n",
       "    .dataframe tbody tr th:only-of-type {\n",
       "        vertical-align: middle;\n",
       "    }\n",
       "\n",
       "    .dataframe tbody tr th {\n",
       "        vertical-align: top;\n",
       "    }\n",
       "\n",
       "    .dataframe thead th {\n",
       "        text-align: right;\n",
       "    }\n",
       "</style>\n",
       "<table border=\"1\" class=\"dataframe\">\n",
       "  <thead>\n",
       "    <tr style=\"text-align: right;\">\n",
       "      <th></th>\n",
       "      <th>Date</th>\n",
       "      <th>Variable</th>\n",
       "      <th>Date_new</th>\n",
       "      <th>flag</th>\n",
       "      <th>Date_2</th>\n",
       "    </tr>\n",
       "  </thead>\n",
       "  <tbody>\n",
       "    <tr>\n",
       "      <th>0</th>\n",
       "      <td>18646.5</td>\n",
       "      <td>266.12506</td>\n",
       "      <td>2001-01-01</td>\n",
       "      <td>NaN</td>\n",
       "      <td>2001-01-01</td>\n",
       "    </tr>\n",
       "    <tr>\n",
       "      <th>1</th>\n",
       "      <td>18647.5</td>\n",
       "      <td>267.93008</td>\n",
       "      <td>2001-01-02</td>\n",
       "      <td>NaN</td>\n",
       "      <td>2001-01-02</td>\n",
       "    </tr>\n",
       "    <tr>\n",
       "      <th>2</th>\n",
       "      <td>18648.5</td>\n",
       "      <td>270.53894</td>\n",
       "      <td>2001-01-03</td>\n",
       "      <td>NaN</td>\n",
       "      <td>2001-01-03</td>\n",
       "    </tr>\n",
       "    <tr>\n",
       "      <th>3</th>\n",
       "      <td>18649.5</td>\n",
       "      <td>276.02680</td>\n",
       "      <td>2001-01-04</td>\n",
       "      <td>NaN</td>\n",
       "      <td>2001-01-04</td>\n",
       "    </tr>\n",
       "    <tr>\n",
       "      <th>4</th>\n",
       "      <td>18650.5</td>\n",
       "      <td>272.79110</td>\n",
       "      <td>2001-01-05</td>\n",
       "      <td>NaN</td>\n",
       "      <td>2001-01-05</td>\n",
       "    </tr>\n",
       "    <tr>\n",
       "      <th>...</th>\n",
       "      <td>...</td>\n",
       "      <td>...</td>\n",
       "      <td>...</td>\n",
       "      <td>...</td>\n",
       "      <td>...</td>\n",
       "    </tr>\n",
       "    <tr>\n",
       "      <th>1820</th>\n",
       "      <td>20466.5</td>\n",
       "      <td>272.24738</td>\n",
       "      <td>2005-12-26</td>\n",
       "      <td>NaN</td>\n",
       "      <td>2005-12-27</td>\n",
       "    </tr>\n",
       "    <tr>\n",
       "      <th>1821</th>\n",
       "      <td>20467.5</td>\n",
       "      <td>272.01850</td>\n",
       "      <td>2005-12-27</td>\n",
       "      <td>NaN</td>\n",
       "      <td>2005-12-28</td>\n",
       "    </tr>\n",
       "    <tr>\n",
       "      <th>1822</th>\n",
       "      <td>20468.5</td>\n",
       "      <td>274.22223</td>\n",
       "      <td>2005-12-28</td>\n",
       "      <td>NaN</td>\n",
       "      <td>2005-12-29</td>\n",
       "    </tr>\n",
       "    <tr>\n",
       "      <th>1823</th>\n",
       "      <td>20469.5</td>\n",
       "      <td>273.85046</td>\n",
       "      <td>2005-12-29</td>\n",
       "      <td>NaN</td>\n",
       "      <td>2005-12-30</td>\n",
       "    </tr>\n",
       "    <tr>\n",
       "      <th>1824</th>\n",
       "      <td>20470.5</td>\n",
       "      <td>273.55300</td>\n",
       "      <td>2005-12-30</td>\n",
       "      <td>NaN</td>\n",
       "      <td>2005-12-31</td>\n",
       "    </tr>\n",
       "  </tbody>\n",
       "</table>\n",
       "<p>1825 rows × 5 columns</p>\n",
       "</div>"
      ],
      "text/plain": [
       "         Date   Variable    Date_new flag      Date_2\n",
       "0     18646.5  266.12506  2001-01-01  NaN  2001-01-01\n",
       "1     18647.5  267.93008  2001-01-02  NaN  2001-01-02\n",
       "2     18648.5  270.53894  2001-01-03  NaN  2001-01-03\n",
       "3     18649.5  276.02680  2001-01-04  NaN  2001-01-04\n",
       "4     18650.5  272.79110  2001-01-05  NaN  2001-01-05\n",
       "...       ...        ...         ...  ...         ...\n",
       "1820  20466.5  272.24738  2005-12-26  NaN  2005-12-27\n",
       "1821  20467.5  272.01850  2005-12-27  NaN  2005-12-28\n",
       "1822  20468.5  274.22223  2005-12-28  NaN  2005-12-29\n",
       "1823  20469.5  273.85046  2005-12-29  NaN  2005-12-30\n",
       "1824  20470.5  273.55300  2005-12-30  NaN  2005-12-31\n",
       "\n",
       "[1825 rows x 5 columns]"
      ]
     },
     "execution_count": 726,
     "metadata": {},
     "output_type": "execute_result"
    }
   ],
   "source": [
    "data_all"
   ]
  },
  {
   "cell_type": "markdown",
   "metadata": {},
   "source": [
    "# OUTPUT"
   ]
  },
  {
   "cell_type": "code",
   "execution_count": 727,
   "metadata": {},
   "outputs": [],
   "source": [
    "# delete unnecessary columns\n",
    "del data_all['Date']\n",
    "del data_all['Date_new']\n",
    "del data_all['flag']\n",
    "\n",
    "# rename column\n",
    "data_all = data_all.rename(columns={'Date_2': 'Date'})"
   ]
  },
  {
   "cell_type": "code",
   "execution_count": 728,
   "metadata": {},
   "outputs": [],
   "source": [
    "# reorder column\n",
    "data_all = data_all[['Date', 'Variable']]"
   ]
  },
  {
   "cell_type": "code",
   "execution_count": 729,
   "metadata": {},
   "outputs": [],
   "source": [
    "data_all.to_csv(user_key['extracted_loc_raw']+'/model_raw_clean/tasmin/tasmin_extrTO_2001-2005.csv', index=None)"
   ]
  },
  {
   "cell_type": "markdown",
   "metadata": {},
   "source": [
    "# LEGACY CODE"
   ]
  },
  {
   "cell_type": "markdown",
   "metadata": {},
   "source": [
    "# Change time units"
   ]
  },
  {
   "cell_type": "code",
   "execution_count": 619,
   "metadata": {
    "scrolled": true
   },
   "outputs": [],
   "source": [
    "# # change time units from 'days since 12/01/1949' to actual date\n",
    "# startdate = \"12/01/1949\"\n",
    "# row_iterator = data_time.iterrows()\n",
    "# counter = 1\n",
    "# data_ActualDate = df = pd.DataFrame(columns = ['Date_new'])\n",
    "# for i, row in row_iterator:\n",
    "#     if counter != len(data_time) + 1:\n",
    "#         temp = pd.to_datetime(startdate) + pd.DateOffset(days=data_time.at[i, 'Date'] + 9)\n",
    "#         if (temp.month == 2 and temp.day == 29):\n",
    "#             random = 1\n",
    "#         else:\n",
    "#             #data_all = data_time \n",
    "#             #data_all.at[i, 'Variable'] = pd.to_datetime(startdate) + pd.DateOffset(days=data_all.at[i, 'Date'] + 9)            \n",
    "#             data_all.at[i, 'Date_new'] = pd.to_datetime(startdate) + pd.DateOffset(days=data_all.at[i, 'Date'] + 9)      \n",
    "#          #   data = pd.to_datetime(startdate) + pd.DateOffset(days=data_time.at[i, 'Date'] + 9)\n",
    "            \n",
    "#         #    data_ActualDate = data_ActualDate.append({'Date_new' : data}, ignore_index=True)\n",
    "            \n",
    "#             #data_all.at[i, 'Date_new2'] = pd.to_datetime(data_all.at[i, 'Date_new']) + pd.DateOffset(days=9)\n",
    "            \n",
    "#     counter += 1\n",
    "\n",
    "# data_ActualDate['Date_new'] = pd.to_datetime(data_ActualDate['Date_new']).dt.date\n",
    "# #data_all.dropna(subset = ['Date_new'], inplace=True)\n",
    "# #print(data_ActualDate.to_string())\n",
    "# #data_ActualDate.to_csv(user_key['csv_loc_raw']+'/pr/pr_output_1986-1990-test3.csv', index=None)"
   ]
  },
  {
   "cell_type": "code",
   "execution_count": 548,
   "metadata": {},
   "outputs": [],
   "source": [
    "# flag leap years\n",
    "\n",
    "# row_iterator = data_all.iterrows()\n",
    "# counter = 1\n",
    "\n",
    "# for i, row in row_iterator:\n",
    "#     if counter != len(data_all)-1:\n",
    "#         if data_all.at[i, 'Date_new'].month == 2 and data_all.at[i, 'Date_new'].day == 29:\n",
    "#              data_all.at[i, 'flag'] = 'flag'\n",
    "\n",
    "#     counter += 1"
   ]
  },
  {
   "cell_type": "code",
   "execution_count": 549,
   "metadata": {},
   "outputs": [],
   "source": [
    "# change leap year date to blank\n",
    "\n",
    "#row_iterator = data_all.iterrows()\n",
    "#counter2 = 1\n",
    "\n",
    "#for i, row in row_iterator:\n",
    "#    if counter2 != len(data_all)-1:\n",
    "#        if data_all.at[i, 'flag'] == 'flag':\n",
    "#            data_all.at[i, 'Date_2'] = data_all.at[i+1, 'Date_new']\n",
    "#    counter2+=1   "
   ]
  },
  {
   "cell_type": "markdown",
   "metadata": {},
   "source": [
    "# Check and solve nulls"
   ]
  },
  {
   "cell_type": "code",
   "execution_count": 550,
   "metadata": {},
   "outputs": [],
   "source": [
    "# forward fill leap year with next date and adjust following dates\n",
    "\n",
    "#row_iterator = data_all.iterrows()\n",
    "#counter3 = 1\n",
    "\n",
    "#for i, row in row_iterator:\n",
    "#    if counter3 != len(data_all)-1:\n",
    "        "
   ]
  },
  {
   "cell_type": "code",
   "execution_count": 551,
   "metadata": {},
   "outputs": [],
   "source": [
    "# # check for any nulls\n",
    "# data_ActualDate.isnull().sum()"
   ]
  },
  {
   "cell_type": "code",
   "execution_count": 552,
   "metadata": {},
   "outputs": [],
   "source": [
    "# # find null value\n",
    "# null_val = data_ActualDate[data_ActualDate['Date_new'].isnull()].index.tolist()\n",
    "# data_ActualDate.iloc[null_val]\n"
   ]
  },
  {
   "cell_type": "code",
   "execution_count": 31,
   "metadata": {},
   "outputs": [],
   "source": [
    "# temp = pd.to_datetime(startdate) + pd.DateOffset(days=18644.5+9)\n",
    "# print(temp)"
   ]
  },
  {
   "cell_type": "code",
   "execution_count": 32,
   "metadata": {},
   "outputs": [],
   "source": [
    "# # handle null value by filling in\n",
    "\n",
    "# data_ActualDate.iloc[1823,2] = pd.to_datetime('12/28/1995')\n",
    "# data_ActualDate['Date_new'] = pd.to_datetime(data_ActualDate['Date_new']).dt.date\n",
    "\n",
    "# #data_time = data_time[['Date_new', 'Variable']]\n",
    "# #data_time.columns = ['Date', 'Variable']"
   ]
  },
  {
   "cell_type": "code",
   "execution_count": 33,
   "metadata": {},
   "outputs": [],
   "source": [
    "# data_all = data_time\n",
    "# data_all.insert(1, 'Variable', list_of_vars)\n",
    "# data_all.insert(2,'Date_new',data_ActualDate)"
   ]
  },
  {
   "cell_type": "code",
   "execution_count": null,
   "metadata": {},
   "outputs": [],
   "source": []
  },
  {
   "cell_type": "code",
   "execution_count": null,
   "metadata": {},
   "outputs": [],
   "source": []
  },
  {
   "cell_type": "code",
   "execution_count": null,
   "metadata": {},
   "outputs": [],
   "source": []
  },
  {
   "cell_type": "code",
   "execution_count": null,
   "metadata": {},
   "outputs": [],
   "source": []
  }
 ],
 "metadata": {
  "kernelspec": {
   "display_name": "Python 3",
   "language": "python",
   "name": "python3"
  },
  "language_info": {
   "codemirror_mode": {
    "name": "ipython",
    "version": 3
   },
   "file_extension": ".py",
   "mimetype": "text/x-python",
   "name": "python",
   "nbconvert_exporter": "python",
   "pygments_lexer": "ipython3",
   "version": "3.8.5"
  }
 },
 "nbformat": 4,
 "nbformat_minor": 4
}
