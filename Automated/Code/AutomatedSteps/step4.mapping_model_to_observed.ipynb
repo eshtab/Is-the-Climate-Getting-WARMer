{
 "cells": [
  {
   "cell_type": "code",
   "execution_count": null,
   "metadata": {},
   "outputs": [],
   "source": [
    "import pandas as pd\n",
    "import datetime as dt\n",
    "import numpy as np\n",
    "import csv\n",
    "import calendar\n",
    "\n",
    "import dash\n",
    "import dash_core_components as dcc\n",
    "import dash_html_components as html\n",
    "\n",
    "import os,sys,inspect\n",
    "from dash.dependencies import Input, Output\n",
    "\n",
    "current_dir = os.path.dirname(os.path.abspath(inspect.getfile(inspect.currentframe())))\n",
    "parent_dir = os.path.dirname(current_dir)\n",
    "sys.path.insert(0, parent_dir) \n",
    "from environmentVariables import environment_variables"
   ]
  },
  {
   "cell_type": "code",
   "execution_count": null,
   "metadata": {},
   "outputs": [],
   "source": [
    "#use inputs to select file for climate model\n",
    "selections=pd.read_csv('AutomatedSteps/optionSelection.csv', header=[0])\n",
    "for index, row in selections.iterrows():\n",
    "    if selections.at[index,'option'] == 'variable':\n",
    "        variable = selections.at[index,'selection']\n",
    "        \n",
    "\n",
    "data=pd.read_csv('AutomatedSteps/'+variable+'_converted.csv')\n",
    "\n"
   ]
  },
  {
   "cell_type": "code",
   "execution_count": null,
   "metadata": {},
   "outputs": [],
   "source": [
    "# read observational climate csv provided by user\n",
    "\n",
    "observeData=pd.read_csv('AutomatedSteps/userInput.csv')\n"
   ]
  },
  {
   "cell_type": "code",
   "execution_count": null,
   "metadata": {},
   "outputs": [],
   "source": [
    "data['Date'] =  pd.to_datetime(data['Date'], format='%Y-%m-%d')"
   ]
  },
  {
   "cell_type": "code",
   "execution_count": null,
   "metadata": {},
   "outputs": [],
   "source": [
    "# read column based on the variable \n",
    "\n",
    " \n",
    "if variable == 'tas':\n",
    "            #then it is TEMP in the data, find the column\n",
    "    column = 'T2M'\n",
    "    \n",
    "elif variable == 'pr' :\n",
    "    column = 'PRECTOTCORR'\n",
    "            \n",
    "elif variable == 'ps' :\n",
    "    column = 'PS'\n",
    "            \n",
    "elif variable == 'sfcWind' :\n",
    "    column = 'WS10M'\n",
    "            \n",
    "elif variable == 'sfcWindmax' :\n",
    "    column = 'WS10M_MAX'\n",
    "            \n",
    "elif variable == 'tasmax' :\n",
    "    column = 'T2M_MAX'\n",
    "            \n",
    "elif variable == 'tasmin' :\n",
    "    column = 'T2M_MIN'\n",
    "\n",
    "elif variable == 'rlds':\n",
    "    column = 'ALLSKY_SFC_LW_DWN'\n",
    "          \n",
    "\n",
    "row_iterator = observeData.iterrows()\n",
    "counter =0\n",
    "\n",
    "dates = []\n",
    "observedData = []\n",
    "modelData = []\n",
    "\n",
    "#the for loop will loop through the observed data file (weatherstats)\n",
    "for i, row in row_iterator:\n",
    "        if counter != len(observeData):\n",
    "            dtTemp = str(observeData.at[i,'YEAR']) + \"-\" + str(observeData.at[i,'MO']) + \"-\" + str(observeData.at[i,'DY']) \n",
    "            if(str(observeData.at[i,'MO']) == '2' and str(observeData.at[i,'DY']) == '29'):\n",
    "                print(\"skipped : \" + dtTemp)\n",
    "            else:\n",
    "                dates.append(dtTemp)\n",
    "                observedData.append(observeData.at[i,column])\n",
    "                counter += 1\n",
    "\n",
    "row_ittr2 = data.iterrows()\n",
    "counter =0\n",
    "#the for loop will loop through the model data file \n",
    "for i, row in row_ittr2:\n",
    "         if counter != len(data):\n",
    "            modelData.append(data.at[i,'Variable'])\n",
    "            counter += 1\n",
    "\n",
    "\n",
    "            \n",
    "\n",
    "#now we have all the variables in array now we create a dataframe\n",
    "data_all = pd.DataFrame()\n",
    "data_all.insert(0, 'Date', dates)\n",
    "data_all.insert(1, 'Observed'+variable, observedData)\n",
    "data_all.insert(2, 'Model'+variable, modelData)\n",
    "        \n",
    "#print(data_all)"
   ]
  },
  {
   "cell_type": "code",
   "execution_count": null,
   "metadata": {},
   "outputs": [],
   "source": [
    "data_all.to_csv('AutomatedSteps/'+variable+'_comparison.csv', index=None)"
   ]
  },
  {
   "cell_type": "code",
   "execution_count": null,
   "metadata": {},
   "outputs": [],
   "source": []
  }
 ],
 "metadata": {
  "kernelspec": {
   "display_name": "Python 3",
   "language": "python",
   "name": "python3"
  },
  "language_info": {
   "codemirror_mode": {
    "name": "ipython",
    "version": 3
   },
   "file_extension": ".py",
   "mimetype": "text/x-python",
   "name": "python",
   "nbconvert_exporter": "python",
   "pygments_lexer": "ipython3",
   "version": "3.8.5"
  }
 },
 "nbformat": 4,
 "nbformat_minor": 4
}
