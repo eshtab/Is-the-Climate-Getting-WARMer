{
 "cells": [
  {
   "cell_type": "code",
   "execution_count": 2,
   "metadata": {},
   "outputs": [],
   "source": [
    "# import netCDF4\n",
    "import pandas as pd\n",
    "import datetime as dt\n",
    "import numpy as np\n",
    "import csv\n",
    "import calendar\n",
    "\n",
    "import os,sys,inspect\n",
    "current_dir = os.path.dirname(os.path.abspath(inspect.getfile(inspect.currentframe())))\n",
    "parent_dir = os.path.dirname(current_dir)\n",
    "sys.path.insert(0, parent_dir) \n",
    "from environmentVariables import environment_variables"
   ]
  },
  {
   "cell_type": "code",
   "execution_count": 4,
   "metadata": {},
   "outputs": [],
   "source": [
    "# read files\n",
    "selections=pd.read_csv('AutomatedSteps/optionSelection.csv', header=[0])\n",
    "for index, row in selections.iterrows():\n",
    "    if selections.at[index,'option'] == 'variable':\n",
    "        variable = selections.at[index,'selection']\n",
    "        \n",
    "        \n",
    "data=pd.read_csv('AutomatedSteps/'+variable +'.csv')\n",
    "observedData=pd.read_csv('AutomatedSteps/userInput.csv')\n",
    "\n",
    "# conversion equation based on variable name\n",
    "variableName = variable"
   ]
  },
  {
   "cell_type": "code",
   "execution_count": 5,
   "metadata": {},
   "outputs": [
    {
     "name": "stdout",
     "output_type": "stream",
     "text": [
      "            Date      Variable\n",
      "0     1986-01-01  0.0001428620\n",
      "1     1986-01-02  0.0000000443\n",
      "2     1986-01-03  0.0000000314\n",
      "3     1986-01-04  0.0000000000\n",
      "4     1986-01-05  0.0000000120\n",
      "...          ...           ...\n",
      "7295  2005-12-27  0.0000000000\n",
      "7296  2005-12-28  0.0000000376\n",
      "7297  2005-12-29  0.0000403000\n",
      "7298  2005-12-30  0.0000082100\n",
      "7299  2005-12-31  0.0001298470\n",
      "\n",
      "[7300 rows x 2 columns]\n"
     ]
    }
   ],
   "source": [
    "#print(data)"
   ]
  },
  {
   "cell_type": "code",
   "execution_count": 6,
   "metadata": {},
   "outputs": [
    {
     "name": "stdout",
     "output_type": "stream",
     "text": [
      "            Date      Variable  Variable_converted\n",
      "0     1986-01-01  0.0001428620         12.34327680\n",
      "1     1986-01-02  0.0000000443          0.00382752\n",
      "2     1986-01-03  0.0000000314          0.00271296\n",
      "3     1986-01-04  0.0000000000          0.00000000\n",
      "4     1986-01-05  0.0000000120          0.00103680\n",
      "...          ...           ...                 ...\n",
      "7295  2005-12-27  0.0000000000          0.00000000\n",
      "7296  2005-12-28  0.0000000376          0.00324864\n",
      "7297  2005-12-29  0.0000403000          3.48192000\n",
      "7298  2005-12-30  0.0000082100          0.70934400\n",
      "7299  2005-12-31  0.0001298470         11.21878080\n",
      "\n",
      "[7300 rows x 3 columns]\n"
     ]
    }
   ],
   "source": [
    "\n",
    "# loop through the rows creating a new converted column    \n",
    "row_iterator = data.iterrows()   \n",
    "for i, row in row_iterator:\n",
    "    currVar = (data.at[i,'Variable'])\n",
    "    if (currVar != \"Variable\" ):\n",
    "        if (variableName == \"pr\"):\n",
    "            #1 kg/m2/s = 86400 mm/day\n",
    "            data.at[i, 'Variable_converted'] = (float(currVar) *  (86400))\n",
    "        elif (variableName == \"ps\"):\n",
    "            #1 pa\t0.001 kP\n",
    "             data.at[i, 'Variable_converted'] = (float(currVar) *  (0.001))\n",
    "        elif (variableName == \"rlds\"):\n",
    "            data.at[i, 'Variable_converted'] = (float(currVar))\n",
    "        elif (variableName == \"sfcWind\"):\n",
    "            #1 m/s\t3.6km/h\n",
    "            data.at[i, 'Variable_converted'] = (float(currVar) *  (3.6))\n",
    "        elif (variableName == \"sfcWindmax\"):\n",
    "            #1 m/s\t3.6km/h\n",
    "            data.at[i, 'Variable_converted'] = (float(currVar) *  (3.6))\n",
    "        elif (variableName == \"tas\"):\n",
    "            # 1K = -273 degrees celsius\n",
    "            data.at[i, 'Variable_converted'] = (float(currVar) - (273.15))\n",
    "        elif (variableName == \"tasmax\"):\n",
    "            # 1K = -273 degrees celsius\n",
    "            data.at[i, 'Variable_converted'] = (float(currVar) - (273.15))\n",
    "        elif (variableName == \"tasmin\"):\n",
    "            # 1K = -273 degrees celsius\n",
    "            data.at[i, 'Variable_converted'] = (float(currVar) - (273.15))\n",
    "                                  \n",
    "        \n",
    "#print(data)\n",
    "\n",
    "row_iterator2 = observedData.iterrows()   \n",
    "for i, row in row_iterator2:\n",
    "    if (variableName == \"sfcWind\"):\n",
    "        currVar = (observedData.at[i,'WS10M'])\n",
    "        #1 m/s\t3.6km/h\n",
    "        observedData.at[i, 'WS10M'] = (float(currVar) *  (3.6))\n",
    "    elif (variableName == \"sfcWindmax\"):\n",
    "        currVar = (observedData.at[i,'WS10M_MAX'])\n",
    "        #1 m/s\t3.6km/h\n",
    "        observedData.at[i, 'WS10M_MAX'] = (float(currVar) *  (3.6))\n",
    "                        \n",
    "#print(observedData)"
   ]
  },
  {
   "cell_type": "code",
   "execution_count": 7,
   "metadata": {},
   "outputs": [],
   "source": [
    "# delete unnecessary columns\n",
    "del data['Variable']\n",
    "\n",
    "# rename column\n",
    "data = data.rename(columns={'Variable_converted': 'Variable'})"
   ]
  },
  {
   "cell_type": "code",
   "execution_count": 8,
   "metadata": {
    "scrolled": true
   },
   "outputs": [
    {
     "data": {
      "text/html": [
       "<div>\n",
       "<style scoped>\n",
       "    .dataframe tbody tr th:only-of-type {\n",
       "        vertical-align: middle;\n",
       "    }\n",
       "\n",
       "    .dataframe tbody tr th {\n",
       "        vertical-align: top;\n",
       "    }\n",
       "\n",
       "    .dataframe thead th {\n",
       "        text-align: right;\n",
       "    }\n",
       "</style>\n",
       "<table border=\"1\" class=\"dataframe\">\n",
       "  <thead>\n",
       "    <tr style=\"text-align: right;\">\n",
       "      <th></th>\n",
       "      <th>Date</th>\n",
       "      <th>Variable</th>\n",
       "    </tr>\n",
       "  </thead>\n",
       "  <tbody>\n",
       "    <tr>\n",
       "      <th>0</th>\n",
       "      <td>1986-01-01</td>\n",
       "      <td>12.34327680</td>\n",
       "    </tr>\n",
       "    <tr>\n",
       "      <th>1</th>\n",
       "      <td>1986-01-02</td>\n",
       "      <td>0.00382752</td>\n",
       "    </tr>\n",
       "    <tr>\n",
       "      <th>2</th>\n",
       "      <td>1986-01-03</td>\n",
       "      <td>0.00271296</td>\n",
       "    </tr>\n",
       "    <tr>\n",
       "      <th>3</th>\n",
       "      <td>1986-01-04</td>\n",
       "      <td>0.00000000</td>\n",
       "    </tr>\n",
       "    <tr>\n",
       "      <th>4</th>\n",
       "      <td>1986-01-05</td>\n",
       "      <td>0.00103680</td>\n",
       "    </tr>\n",
       "    <tr>\n",
       "      <th>...</th>\n",
       "      <td>...</td>\n",
       "      <td>...</td>\n",
       "    </tr>\n",
       "    <tr>\n",
       "      <th>7295</th>\n",
       "      <td>2005-12-27</td>\n",
       "      <td>0.00000000</td>\n",
       "    </tr>\n",
       "    <tr>\n",
       "      <th>7296</th>\n",
       "      <td>2005-12-28</td>\n",
       "      <td>0.00324864</td>\n",
       "    </tr>\n",
       "    <tr>\n",
       "      <th>7297</th>\n",
       "      <td>2005-12-29</td>\n",
       "      <td>3.48192000</td>\n",
       "    </tr>\n",
       "    <tr>\n",
       "      <th>7298</th>\n",
       "      <td>2005-12-30</td>\n",
       "      <td>0.70934400</td>\n",
       "    </tr>\n",
       "    <tr>\n",
       "      <th>7299</th>\n",
       "      <td>2005-12-31</td>\n",
       "      <td>11.21878080</td>\n",
       "    </tr>\n",
       "  </tbody>\n",
       "</table>\n",
       "<p>7300 rows × 2 columns</p>\n",
       "</div>"
      ],
      "text/plain": [
       "            Date     Variable\n",
       "0     1986-01-01  12.34327680\n",
       "1     1986-01-02   0.00382752\n",
       "2     1986-01-03   0.00271296\n",
       "3     1986-01-04   0.00000000\n",
       "4     1986-01-05   0.00103680\n",
       "...          ...          ...\n",
       "7295  2005-12-27   0.00000000\n",
       "7296  2005-12-28   0.00324864\n",
       "7297  2005-12-29   3.48192000\n",
       "7298  2005-12-30   0.70934400\n",
       "7299  2005-12-31  11.21878080\n",
       "\n",
       "[7300 rows x 2 columns]"
      ]
     },
     "execution_count": 8,
     "metadata": {},
     "output_type": "execute_result"
    }
   ],
   "source": [
    "data"
   ]
  },
  {
   "cell_type": "code",
   "execution_count": 9,
   "metadata": {},
   "outputs": [],
   "source": [
    "data.to_csv('AutomatedSteps/'+variable +'_converted.csv', index=None)\n",
    "observedData.to_csv('AutomatedSteps/userInput.csv', index=None)"
   ]
  },
  {
   "cell_type": "code",
   "execution_count": null,
   "metadata": {},
   "outputs": [],
   "source": []
  },
  {
   "cell_type": "code",
   "execution_count": null,
   "metadata": {},
   "outputs": [],
   "source": []
  },
  {
   "cell_type": "code",
   "execution_count": null,
   "metadata": {},
   "outputs": [],
   "source": []
  }
 ],
 "metadata": {
  "kernelspec": {
   "display_name": "Python 3",
   "language": "python",
   "name": "python3"
  },
  "language_info": {
   "codemirror_mode": {
    "name": "ipython",
    "version": 3
   },
   "file_extension": ".py",
   "mimetype": "text/x-python",
   "name": "python",
   "nbconvert_exporter": "python",
   "pygments_lexer": "ipython3",
   "version": "3.8.5"
  }
 },
 "nbformat": 4,
 "nbformat_minor": 4
}
