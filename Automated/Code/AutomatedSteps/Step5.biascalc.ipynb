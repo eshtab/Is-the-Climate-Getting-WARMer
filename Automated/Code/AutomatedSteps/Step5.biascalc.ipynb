{
 "cells": [
  {
   "cell_type": "code",
   "execution_count": 1,
   "metadata": {},
   "outputs": [],
   "source": [
    "import pandas as pd\n",
    "import datetime as dt\n",
    "import numpy as np\n",
    "import csv\n",
    "import calendar\n",
    "\n",
    "import dash\n",
    "import dash_core_components as dcc\n",
    "import dash_html_components as html\n",
    "\n",
    "import os,sys,inspect\n",
    "from dash.dependencies import Input, Output\n",
    "\n",
    "current_dir = os.path.dirname(os.path.abspath(inspect.getfile(inspect.currentframe())))\n",
    "parent_dir = os.path.dirname(current_dir)\n",
    "sys.path.insert(0, parent_dir) \n",
    "from environmentVariables import environment_variables"
   ]
  },
  {
   "cell_type": "code",
   "execution_count": 7,
   "metadata": {},
   "outputs": [],
   "source": [
    "selections=pd.read_csv('AutomatedSteps/optionSelection.csv', header=[0])\n",
    "for index, row in selections.iterrows():\n",
    "    if selections.at[index,'option'] == 'variable':\n",
    "        variable = selections.at[index,'selection']\n",
    "        \n",
    "data=pd.read_csv('AutomatedSteps/'+variable+'_comparison.csv')\n",
    "\n",
    "biasData = data['Model'+variable] - data['Observed'+variable]\n",
    "\n",
    "data[\"Bias\"] = biasData\n",
    "data.to_csv('AutomatedSteps/'+variable+'_comparison_bias.csv', index=None)\n"
   ]
  },
  {
   "cell_type": "code",
   "execution_count": 5,
   "metadata": {},
   "outputs": [],
   "source": []
  },
  {
   "cell_type": "code",
   "execution_count": null,
   "metadata": {},
   "outputs": [],
   "source": []
  }
 ],
 "metadata": {
  "kernelspec": {
   "display_name": "Python 3",
   "language": "python",
   "name": "python3"
  },
  "language_info": {
   "codemirror_mode": {
    "name": "ipython",
    "version": 3
   },
   "file_extension": ".py",
   "mimetype": "text/x-python",
   "name": "python",
   "nbconvert_exporter": "python",
   "pygments_lexer": "ipython3",
   "version": "3.8.5"
  }
 },
 "nbformat": 4,
 "nbformat_minor": 4
}
