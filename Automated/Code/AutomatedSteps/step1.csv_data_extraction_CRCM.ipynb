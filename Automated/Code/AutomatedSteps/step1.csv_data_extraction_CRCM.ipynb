{
 "cells": [
  {
   "cell_type": "code",
   "execution_count": null,
   "metadata": {},
   "outputs": [],
   "source": [
    "# import netCDF4\n",
    "import pandas as pd\n",
    "import datetime as dt\n",
    "import numpy as np\n",
    "import csv\n",
    "import calendar\n",
    "\n",
    "import os,sys,inspect\n",
    "current_dir = os.path.dirname(os.path.abspath(inspect.getfile(inspect.currentframe())))\n",
    "parent_dir = os.path.dirname(current_dir)\n",
    "sys.path.insert(0, parent_dir) \n",
    "from environmentVariables import environment_variables"
   ]
  },
  {
   "cell_type": "code",
   "execution_count": null,
   "metadata": {},
   "outputs": [],
   "source": [
    "userTemp = os.getlogin()\n",
    "\n",
    "if userTemp == 'Eshta':\n",
    "    user = 'eshta'\n",
    "user_key=environment_variables[user]\n",
    "pd.set_option('display.precision', 12)"
   ]
  },
  {
   "cell_type": "markdown",
   "metadata": {},
   "source": [
    "# INPUT"
   ]
  },
  {
   "cell_type": "code",
   "execution_count": null,
   "metadata": {},
   "outputs": [],
   "source": [
    "# read files\n",
    "\n",
    "#we must automate all the files here\n",
    "\n",
    "#the variable decides which file to select as data\n",
    "#load in the csv with the selected options\n",
    "selections=pd.read_csv('AutomatedSteps/optionSelection.csv', header=[0])\n",
    "#now we allocate all variables (rlat,rlong,variable)\n",
    "variable = \"\"\n",
    "rlat = 0\n",
    "rlong = 0\n",
    "for index, row in selections.iterrows():\n",
    "    if selections.at[index,'option'] == 'rlat':\n",
    "        rlat = selections.at[index,'selection']\n",
    "    if selections.at[index,'option'] == 'rlong':\n",
    "        rlong = selections.at[index,'selection']\n",
    "    if selections.at[index,'option'] == 'variable':\n",
    "        variable = selections.at[index,'selection']\n",
    "    if selections.at[index,'option'] == 'startDate':\n",
    "        startDate = selections.at[index,'selection']\n",
    "    if selections.at[index,'option'] == 'endDate':\n",
    "        endDate = selections.at[index,'selection']\n",
    "    if selections.at[index,'option'] == 'currYear':\n",
    "        currYear = selections.at[index,'selection']\n",
    "        \n",
    "#now that selections are set we continue\n",
    "#decide file based on date\n",
    "rlat = int(rlat)\n",
    "rlong = int(rlong)\n",
    "#now based on how many files exist with variable name and date\n",
    "if currYear == '1986':\n",
    "    print(\"1986 here\")\n",
    "    dtStr = \"19860101-19901231\"\n",
    "    dtOutStr = \"1986-1990\"\n",
    "elif currYear == '1991':\n",
    "    dtStr = \"19910101-19951231\"\n",
    "    dtOutStr = \"1991-1995\"\n",
    "elif currYear == '1996':\n",
    "    dtStr = \"19960101-20001231\"\n",
    "    dtOutStr = \"1996-2000\"\n",
    "elif currYear == '2001':\n",
    "    dtStr = \"20010101-20051231\"\n",
    "    dtOutStr = \"2001-2005\"\n",
    "\n",
    "    \n",
    "\n",
    "    \n",
    "data=pd.read_csv(user_key['path_in']+ variable + '/' + variable + '_' + dtStr + '.csv', header=None)\n",
    "data_time = pd.read_csv(user_key['path_in']+ variable + '/' +'time_' + dtStr + '.csv', header=None)\n"
   ]
  },
  {
   "cell_type": "markdown",
   "metadata": {},
   "source": [
    "# Calculate num of leap years"
   ]
  },
  {
   "cell_type": "code",
   "execution_count": null,
   "metadata": {},
   "outputs": [],
   "source": [
    "# Input list initialization\n",
    "input_list = [1950, 1951, 1952, 1953, 1954, 1955,\n",
    "         1956, 1957, 1958, 1959, 1960,\n",
    "         1961, 1962, 1963, 1964, 1965, \n",
    "         1966, 1967, 1968, 1969, 1970, \n",
    "         1971, 1972, 1973, 1974, 1975, \n",
    "         1976, 1977, 1978, 1979, 1980, \n",
    "         1981, 1982, 1983, 1984, 1985\n",
    "        ,1986, 1987, 1988, 1989, 1990\n",
    "        ,1991, 1992, 1993, 1994, 1995\n",
    "        ,1996, 1997, 1998, 1999, 2000\n",
    "        ]"
   ]
  },
  {
   "cell_type": "code",
   "execution_count": null,
   "metadata": {},
   "outputs": [],
   "source": [
    "def findLeapYear(input_list):\n",
    "    ans = 0\n",
    "    for elem in input_list:\n",
    "        if calendar.isleap(int(elem)):\n",
    "            ans = ans + 1\n",
    "    return ans\n",
    "\n",
    "numleap = findLeapYear(input_list)\n",
    "print(numleap)"
   ]
  },
  {
   "cell_type": "markdown",
   "metadata": {},
   "source": [
    "# Extract based on rlat and rlon"
   ]
  },
  {
   "cell_type": "code",
   "execution_count": null,
   "metadata": {},
   "outputs": [],
   "source": [
    "rlon_x = rlong # adjusted from 212 since headers start at 0\n",
    "rlat_y = rlat  # adjusted from 120 since index starts at 0\n",
    "counter = 0\n",
    "\n",
    "list_of_vars = []\n",
    "\n",
    " \n",
    "while (rlat_y+counter) < len(data)-1:\n",
    "    var = data.iloc[rlat_y+counter, rlon_x]\n",
    "    list_of_vars.append(var)\n",
    "        \n",
    "    counter+=260 \n",
    "\n",
    "len(list_of_vars) #should always be 1825"
   ]
  },
  {
   "cell_type": "code",
   "execution_count": null,
   "metadata": {},
   "outputs": [],
   "source": [
    "#read data_time and transpose into column and append variable and date info to new df\n",
    "data_all = data_time.transpose()\n",
    "data_all.insert(1, 'Variable', list_of_vars)\n",
    "data_all = data_all.rename(columns={0: 'Date'})"
   ]
  },
  {
   "cell_type": "code",
   "execution_count": null,
   "metadata": {},
   "outputs": [],
   "source": [
    "#data_all"
   ]
  },
  {
   "cell_type": "markdown",
   "metadata": {},
   "source": [
    "# Change time units - new"
   ]
  },
  {
   "cell_type": "code",
   "execution_count": null,
   "metadata": {},
   "outputs": [],
   "source": [
    "startdate = \"12/01/1949\"\n",
    "temp = pd.to_datetime(startdate) + pd.DateOffset(days= 13171.5 +numleap)"
   ]
  },
  {
   "cell_type": "code",
   "execution_count": null,
   "metadata": {},
   "outputs": [],
   "source": [
    "#print(temp)"
   ]
  },
  {
   "cell_type": "code",
   "execution_count": null,
   "metadata": {},
   "outputs": [],
   "source": [
    "# change time units from 'days since 12/01/1949' to actual date\n",
    "startdate = \"12/01/1949\"\n",
    "row_iterator = data_all.iterrows()\n",
    "counter = 1\n",
    "\n",
    "for i, row in row_iterator:\n",
    "    if counter != len(data_all)+1:\n",
    "        #temp = pd.to_datetime(startdate) + pd.DateOffset(days=data_all.at[i, 'Date']+9)\n",
    "        #if temp.month != 2 and temp.day != 29:\n",
    "            #data_all.at[i, 'Date_new'] = pd.to_datetime(temp)\n",
    "        data_all.at[i, 'Date_new'] = pd.to_datetime(startdate) + \\\n",
    "                                     pd.DateOffset(days=data_all.at[i, 'Date']+numleap)\n",
    "            #data_all.at[i, 'Date_new2'] = pd.to_datetime(data_all.at[i, 'Date_new']) + pd.DateOffset(days=9)\n",
    "            \n",
    "    counter += 1\n",
    "\n",
    "data_all['Date_new'] = pd.to_datetime(data_all['Date_new']).dt.date"
   ]
  },
  {
   "cell_type": "code",
   "execution_count": null,
   "metadata": {},
   "outputs": [],
   "source": [
    "# flag leap years\n",
    "\n",
    "row_iterator = data_all.iterrows()\n",
    "counter = 1\n",
    "\n",
    "for i, row in row_iterator:\n",
    "    if counter != len(data_all)+1:\n",
    "        if data_all.at[i, 'Date_new'].month == 2 and data_all.at[i, 'Date_new'].day == 29:\n",
    "             data_all.at[i, 'flag'] = 'flag'\n",
    "\n",
    "    counter += 1"
   ]
  },
  {
   "cell_type": "code",
   "execution_count": null,
   "metadata": {},
   "outputs": [],
   "source": [
    "# if flag, change flagged date to +1\n",
    "\n",
    "row_iterator = data_all.iterrows()\n",
    "counter2 = 1\n",
    "\n",
    "for i, row in row_iterator:\n",
    "    if counter2 != len(data_all)+1:\n",
    "        if data_all.at[i, 'flag'] == 'flag':\n",
    "            data_all.at[i, 'Date_2'] = data_all.at[i+1, 'Date_new']\n",
    "    counter2+=1   "
   ]
  },
  {
   "cell_type": "code",
   "execution_count": null,
   "metadata": {},
   "outputs": [],
   "source": [
    "# copy over date from before if Date_2 is null \n",
    "# otherwise keep the value in Date_2\n",
    "\n",
    "row_iterator = data_all.iterrows()\n",
    "counter3 = 1\n",
    "numberofflags = 0\n",
    "\n",
    "for i, row in row_iterator:\n",
    "    if counter3 != len(data_all)+1:\n",
    "        if data_all.at[i, 'flag'] == 'flag':\n",
    "            numberofflags+=1\n",
    "        temp = data_all.at[i, 'Date_new'] + pd.DateOffset(days=numberofflags)\n",
    "        if (temp.month == 2 and temp.day == 29):\n",
    "            data_all.at[i, 'Date_2'] = data_all.at[i, 'Date_new'] + pd.DateOffset(days=numberofflags+1)\n",
    "        else:\n",
    "            data_all.at[i, 'Date_2'] = data_all.at[i, 'Date_new'] + pd.DateOffset(days=numberofflags)\n",
    "\n",
    "\n",
    "    counter3+=1\n",
    "\n",
    "data_all['Date_2'] = pd.to_datetime(data_all['Date_2']).dt.date"
   ]
  },
  {
   "cell_type": "code",
   "execution_count": null,
   "metadata": {},
   "outputs": [],
   "source": [
    "#data_all"
   ]
  },
  {
   "cell_type": "markdown",
   "metadata": {},
   "source": [
    "# OUTPUT"
   ]
  },
  {
   "cell_type": "code",
   "execution_count": null,
   "metadata": {},
   "outputs": [],
   "source": [
    "# delete unnecessary columns\n",
    "del data_all['Date']\n",
    "del data_all['Date_new']\n",
    "del data_all['flag']\n",
    "\n",
    "# rename column\n",
    "data_all = data_all.rename(columns={'Date_2': 'Date'})"
   ]
  },
  {
   "cell_type": "code",
   "execution_count": null,
   "metadata": {},
   "outputs": [],
   "source": [
    "# reorder column\n",
    "data_all = data_all[['Date', 'Variable']]"
   ]
  },
  {
   "cell_type": "code",
   "execution_count": null,
   "metadata": {},
   "outputs": [],
   "source": [
    "data_all.to_csv('AutomatedSteps/' + variable +'_'+dtOutStr +'.csv', index=None)"
   ]
  },
  {
   "cell_type": "markdown",
   "metadata": {},
   "source": [
    "# LEGACY CODE"
   ]
  },
  {
   "cell_type": "markdown",
   "metadata": {},
   "source": [
    "# Change time units"
   ]
  },
  {
   "cell_type": "code",
   "execution_count": null,
   "metadata": {
    "scrolled": true
   },
   "outputs": [],
   "source": [
    "# # change time units from 'days since 12/01/1949' to actual date\n",
    "# startdate = \"12/01/1949\"\n",
    "# row_iterator = data_time.iterrows()\n",
    "# counter = 1\n",
    "# data_ActualDate = df = pd.DataFrame(columns = ['Date_new'])\n",
    "# for i, row in row_iterator:\n",
    "#     if counter != len(data_time) + 1:\n",
    "#         temp = pd.to_datetime(startdate) + pd.DateOffset(days=data_time.at[i, 'Date'] + 9)\n",
    "#         if (temp.month == 2 and temp.day == 29):\n",
    "#             random = 1\n",
    "#         else:\n",
    "#             #data_all = data_time \n",
    "#             #data_all.at[i, 'Variable'] = pd.to_datetime(startdate) + pd.DateOffset(days=data_all.at[i, 'Date'] + 9)            \n",
    "#             data_all.at[i, 'Date_new'] = pd.to_datetime(startdate) + pd.DateOffset(days=data_all.at[i, 'Date'] + 9)      \n",
    "#          #   data = pd.to_datetime(startdate) + pd.DateOffset(days=data_time.at[i, 'Date'] + 9)\n",
    "            \n",
    "#         #    data_ActualDate = data_ActualDate.append({'Date_new' : data}, ignore_index=True)\n",
    "            \n",
    "#             #data_all.at[i, 'Date_new2'] = pd.to_datetime(data_all.at[i, 'Date_new']) + pd.DateOffset(days=9)\n",
    "            \n",
    "#     counter += 1\n",
    "\n",
    "# data_ActualDate['Date_new'] = pd.to_datetime(data_ActualDate['Date_new']).dt.date\n",
    "# #data_all.dropna(subset = ['Date_new'], inplace=True)\n",
    "# #print(data_ActualDate.to_string())\n",
    "# #data_ActualDate.to_csv(user_key['csv_loc_raw']+'/pr/pr_output_1986-1990-test3.csv', index=None)"
   ]
  },
  {
   "cell_type": "code",
   "execution_count": null,
   "metadata": {},
   "outputs": [],
   "source": [
    "# flag leap years\n",
    "\n",
    "# row_iterator = data_all.iterrows()\n",
    "# counter = 1\n",
    "\n",
    "# for i, row in row_iterator:\n",
    "#     if counter != len(data_all)-1:\n",
    "#         if data_all.at[i, 'Date_new'].month == 2 and data_all.at[i, 'Date_new'].day == 29:\n",
    "#              data_all.at[i, 'flag'] = 'flag'\n",
    "\n",
    "#     counter += 1"
   ]
  },
  {
   "cell_type": "code",
   "execution_count": null,
   "metadata": {},
   "outputs": [],
   "source": [
    "# change leap year date to blank\n",
    "\n",
    "#row_iterator = data_all.iterrows()\n",
    "#counter2 = 1\n",
    "\n",
    "#for i, row in row_iterator:\n",
    "#    if counter2 != len(data_all)-1:\n",
    "#        if data_all.at[i, 'flag'] == 'flag':\n",
    "#            data_all.at[i, 'Date_2'] = data_all.at[i+1, 'Date_new']\n",
    "#    counter2+=1   "
   ]
  },
  {
   "cell_type": "markdown",
   "metadata": {},
   "source": [
    "# Check and solve nulls"
   ]
  },
  {
   "cell_type": "code",
   "execution_count": null,
   "metadata": {},
   "outputs": [],
   "source": [
    "# forward fill leap year with next date and adjust following dates\n",
    "\n",
    "#row_iterator = data_all.iterrows()\n",
    "#counter3 = 1\n",
    "\n",
    "#for i, row in row_iterator:\n",
    "#    if counter3 != len(data_all)-1:\n",
    "        "
   ]
  },
  {
   "cell_type": "code",
   "execution_count": null,
   "metadata": {},
   "outputs": [],
   "source": [
    "# # check for any nulls\n",
    "# data_ActualDate.isnull().sum()"
   ]
  },
  {
   "cell_type": "code",
   "execution_count": null,
   "metadata": {},
   "outputs": [],
   "source": [
    "# # find null value\n",
    "# null_val = data_ActualDate[data_ActualDate['Date_new'].isnull()].index.tolist()\n",
    "# data_ActualDate.iloc[null_val]\n"
   ]
  },
  {
   "cell_type": "code",
   "execution_count": null,
   "metadata": {},
   "outputs": [],
   "source": [
    "# temp = pd.to_datetime(startdate) + pd.DateOffset(days=18644.5+9)\n",
    "# print(temp)"
   ]
  },
  {
   "cell_type": "code",
   "execution_count": null,
   "metadata": {},
   "outputs": [],
   "source": [
    "# # handle null value by filling in\n",
    "\n",
    "# data_ActualDate.iloc[1823,2] = pd.to_datetime('12/28/1995')\n",
    "# data_ActualDate['Date_new'] = pd.to_datetime(data_ActualDate['Date_new']).dt.date\n",
    "\n",
    "# #data_time = data_time[['Date_new', 'Variable']]\n",
    "# #data_time.columns = ['Date', 'Variable']"
   ]
  },
  {
   "cell_type": "code",
   "execution_count": null,
   "metadata": {},
   "outputs": [],
   "source": [
    "# data_all = data_time\n",
    "# data_all.insert(1, 'Variable', list_of_vars)\n",
    "# data_all.insert(2,'Date_new',data_ActualDate)"
   ]
  },
  {
   "cell_type": "code",
   "execution_count": null,
   "metadata": {},
   "outputs": [],
   "source": []
  },
  {
   "cell_type": "code",
   "execution_count": null,
   "metadata": {},
   "outputs": [],
   "source": []
  },
  {
   "cell_type": "code",
   "execution_count": null,
   "metadata": {},
   "outputs": [],
   "source": []
  },
  {
   "cell_type": "code",
   "execution_count": null,
   "metadata": {},
   "outputs": [],
   "source": []
  }
 ],
 "metadata": {
  "kernelspec": {
   "display_name": "Python 3",
   "language": "python",
   "name": "python3"
  },
  "language_info": {
   "codemirror_mode": {
    "name": "ipython",
    "version": 3
   },
   "file_extension": ".py",
   "mimetype": "text/x-python",
   "name": "python",
   "nbconvert_exporter": "python",
   "pygments_lexer": "ipython3",
   "version": "3.8.5"
  }
 },
 "nbformat": 4,
 "nbformat_minor": 4
}
