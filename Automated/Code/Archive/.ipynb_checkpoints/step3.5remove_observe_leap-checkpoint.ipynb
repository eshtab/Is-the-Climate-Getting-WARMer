{
 "cells": [
  {
   "cell_type": "code",
   "execution_count": 1,
   "metadata": {},
   "outputs": [],
   "source": [
    "import pandas as pd\n",
    "import datetime as dt\n",
    "import numpy as np\n",
    "import csv\n",
    "import calendar\n",
    "\n",
    "import dash\n",
    "import dash_core_components as dcc\n",
    "import dash_html_components as html\n",
    "\n",
    "import os,sys,inspect\n",
    "from dash.dependencies import Input, Output\n",
    "\n",
    "current_dir = os.path.dirname(os.path.abspath(inspect.getfile(inspect.currentframe())))\n",
    "parent_dir = os.path.dirname(current_dir)\n",
    "sys.path.insert(0, parent_dir) \n",
    "from environmentVariables import environment_variables"
   ]
  },
  {
   "cell_type": "code",
   "execution_count": 2,
   "metadata": {},
   "outputs": [],
   "source": [
    "user_key=environment_variables['eshta']\n",
    "pd.set_option('display.precision', 12)"
   ]
  },
  {
   "cell_type": "code",
   "execution_count": 3,
   "metadata": {},
   "outputs": [],
   "source": [
    "climate=pd.read_excel(user_key['observed_raw_unclean']+'climate-daily-weatherstats.xlsx',sheet_name=1)\n",
    "power=pd.read_csv(user_key['observed_raw_unclean']+'POWER-airportlocation.csv')"
   ]
  },
  {
   "cell_type": "code",
   "execution_count": 4,
   "metadata": {},
   "outputs": [],
   "source": [
    "#drop all columns in climate except for, \n",
    "#Date, precipitation, avg_hourly_pressure_station,All Sky Surface Longwave Downward Irradiance\n",
    "#ALLSKY_SFC_LW_DWN, avg_hourly_wind_speed,max_wind_speed, avg_hourly_temperature, max_temperature, min_temperature\n",
    "\n",
    "climate_new = pd.DataFrame()\n",
    "climate_new['Date'] = climate['date']\n",
    "climate_new['precipitation'] = climate['precipitation']\n",
    "climate_new['avg_hourly_pressure_station'] = climate['avg_hourly_pressure_station']\n",
    "climate_new['avg_hourly_wind_speed'] = climate['avg_hourly_wind_speed']\n",
    "climate_new['max_wind_speed'] = climate['max_wind_speed']\n",
    "climate_new['avg_hourly_temperature'] = climate['avg_hourly_temperature']\n",
    "climate_new['max_temperature'] = climate['max_temperature']\n",
    "climate_new['min_temperature'] = climate['min_temperature']\n",
    "\n",
    "\n",
    "\n",
    "power_new = pd.DataFrame()\n",
    "power_new['Date'] = pd.to_datetime((power.YEAR*10000+power.MO*100+power.DY).apply(str),format='%Y%m%d')\n",
    "power_new['ALLSKY_SFC_LW_DWN'] = power['ALLSKY_SFC_LW_DWN']\n"
   ]
  },
  {
   "cell_type": "code",
   "execution_count": 7,
   "metadata": {},
   "outputs": [],
   "source": [
    "#now we delete leap year columns\n",
    "\n",
    "climate_new = climate_new[~((climate_new.Date.dt.month == 2) & (climate_new.Date.dt.day == 29))]\n",
    "\n",
    "power_new = power_new[~((power_new.Date.dt.month == 2) & (power_new.Date.dt.day == 29))]\n",
    "\n"
   ]
  },
  {
   "cell_type": "code",
   "execution_count": 9,
   "metadata": {},
   "outputs": [],
   "source": [
    "climate_new.to_csv(user_key['observed_raw_clean']+'climate-daily-weatherstats_Cleaned.csv', index=None)"
   ]
  },
  {
   "cell_type": "code",
   "execution_count": null,
   "metadata": {},
   "outputs": [],
   "source": []
  }
 ],
 "metadata": {
  "kernelspec": {
   "display_name": "Python 3",
   "language": "python",
   "name": "python3"
  },
  "language_info": {
   "codemirror_mode": {
    "name": "ipython",
    "version": 3
   },
   "file_extension": ".py",
   "mimetype": "text/x-python",
   "name": "python",
   "nbconvert_exporter": "python",
   "pygments_lexer": "ipython3",
   "version": "3.8.5"
  }
 },
 "nbformat": 4,
 "nbformat_minor": 4
}
