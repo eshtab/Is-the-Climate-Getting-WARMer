{
 "cells": [
  {
   "cell_type": "code",
   "execution_count": null,
   "metadata": {},
   "outputs": [],
   "source": [
    "import netCDF4\n",
    "import pandas as pd\n",
    "import datetime as dt\n",
    "import numpy as np\n",
    "import csv\n",
    "\n",
    "import os,sys,inspect\n",
    "current_dir = os.path.dirname(os.path.abspath(inspect.getfile(inspect.currentframe())))\n",
    "#parent_dir = os.paths.dirname(current_dir)\n",
    "sys.path.insert(0, current_dir) \n",
    "from environmentVariables import environment_variables"
   ]
  },
  {
   "cell_type": "code",
   "execution_count": null,
   "metadata": {},
   "outputs": [],
   "source": [
    "user_key=environment_variables['eshta']"
   ]
  },
  {
   "cell_type": "code",
   "execution_count": null,
   "metadata": {
    "scrolled": true
   },
   "outputs": [],
   "source": [
    "# read file \n",
    "\n",
    "file_in = '/pr/pr_19860101-19901231.nc'\n",
    "read = netCDF4.Dataset(user_key['path_in'] + file_in)"
   ]
  },
  {
   "cell_type": "code",
   "execution_count": null,
   "metadata": {},
   "outputs": [],
   "source": [
    "#rlat = read.variables['rlat']\n",
    "var = read.variables['pr']\n",
    "time = read.variables['time']\n",
    "#13.08998108,-2.309999466\n",
    "#The var function takes firstly the day in integer, and rlat, and rlon\n",
    "for x in range(len(var)):\n",
    "    print( str(x) + \". Date: \" + str(time[x]) + \" Variable:\" +  str(var[x,13.08998108,-2.309999466]))\n",
    "\n",
    "   \n"
   ]
  },
  {
   "cell_type": "code",
   "execution_count": null,
   "metadata": {},
   "outputs": [],
   "source": [
    "file_out = '/pr/pr_output_1986-1990.csv'\n",
    "\n",
    "with open(user_key['csv_loc_raw'] + file_out, 'w', newline='') as csvfile:\n",
    "    fieldnames = ['days_since', 'variable_value']\n",
    "    writer = csv.DictWriter(csvfile, fieldnames=fieldnames)\n",
    "\n",
    "    writer.writeheader()\n",
    "    for x in range(len(var)):\n",
    "        writer.writerow({'days_since': str(time[x]), 'variable_value': str(var[x,13.08998108,-2.309999466])})"
   ]
  },
  {
   "cell_type": "code",
   "execution_count": null,
   "metadata": {},
   "outputs": [],
   "source": []
  },
  {
   "cell_type": "code",
   "execution_count": null,
   "metadata": {},
   "outputs": [],
   "source": []
  }
 ],
 "metadata": {
  "kernelspec": {
   "display_name": "Python 3",
   "language": "python",
   "name": "python3"
  },
  "language_info": {
   "codemirror_mode": {
    "name": "ipython",
    "version": 3
   },
   "file_extension": ".py",
   "mimetype": "text/x-python",
   "name": "python",
   "nbconvert_exporter": "python",
   "pygments_lexer": "ipython3",
   "version": "3.8.5"
  }
 },
 "nbformat": 4,
 "nbformat_minor": 4
}
