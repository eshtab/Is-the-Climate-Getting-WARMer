{
 "cells": [
  {
   "cell_type": "code",
   "execution_count": null,
   "metadata": {},
   "outputs": [],
   "source": [
    "  if (option == 'phenomenon'):\n",
    "            choices = [\n",
    "                {'label':'Hurricane','value' : 'hurricane'},\n",
    "                {'label':'Flood','value' : 'flood'},\n",
    "                {'label':'Tornado','value' : 'tornado'},\n",
    "                {'label':'Hailstorm','value' : 'hailstorm'},\n",
    "                {'label':'Windstorm','value' : 'windstorm'},\n",
    "                {'label':'Rainstorm','value' : 'rainstorm'},\n",
    "                {'label':'Ice storm','value' : 'ice storm'},\n",
    "                {'label':'Drought','value' : 'drought'}              \n",
    "            ]\n",
    "            \n",
    "            return choices\n",
    "        \n",
    "        \n"
   ]
  }
 ],
 "metadata": {
  "kernelspec": {
   "display_name": "Python 3",
   "language": "python",
   "name": "python3"
  },
  "language_info": {
   "codemirror_mode": {
    "name": "ipython",
    "version": 3
   },
   "file_extension": ".py",
   "mimetype": "text/x-python",
   "name": "python",
   "nbconvert_exporter": "python",
   "pygments_lexer": "ipython3",
   "version": "3.8.5"
  }
 },
 "nbformat": 4,
 "nbformat_minor": 4
}
