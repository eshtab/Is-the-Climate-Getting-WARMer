{
 "cells": [
  {
   "cell_type": "code",
   "execution_count": null,
   "metadata": {},
   "outputs": [],
   "source": [
    "#Variance Calculations\n",
    "        \n",
    "         \n",
    "        stats7 = stats7.append({'Month': 'Annual'}, ignore_index=True)\n",
    "        stats8 = stats8.append({'Month': 'Annual'}, ignore_index=True)\n",
    "        \n",
    "        temp_monthly_var = data_all\n",
    "        temp_monthly_var['Date'] = pd.to_datetime(temp_monthly_var['Date'])\n",
    "        temp_monthly_var = (temp_monthly_var.set_index('Date').resample('M').var())\n",
    "        \n",
    "       \n",
    "        \n",
    "        temp_yearly_var = data_all\n",
    "        temp_yearly_var['Date'] = pd.to_datetime(temp_yearly_var['Date'])\n",
    "        temp_yearly_var = (temp_yearly_var.set_index('Date').resample('Y').var())\n",
    "        \n",
    "        \n",
    "        \n",
    "         \n",
    "        rowit = temp_monthly_var.iterrows()  \n",
    "        \n",
    "        temp_monthly_var['Date'] = temp_monthly_var.index\n",
    "         \n",
    "        temp_monthly_var = temp_monthly_var.round({'Observed'+variable: 2, 'Model'+variable: 2})    \n",
    "        temp_yearly_var = temp_yearly_var.round({'Observed'+variable: 2, 'Model'+variable: 2})\n",
    "           \n",
    "            stats8.at[(currMonth - 1),currYear] = temp_monthly_var.at[i,'Model'+variable]\n",
    "        \n",
    "            \n",
    "      \n",
    "        temp_yearly_var['Date'] = temp_yearly_var.index\n",
    "        rowitYear = temp_yearly_var.iterrows()\n",
    "        #add monthly means\n",
    "        for i, row in rowitYear:\n",
    "            currDate = temp_yearly_var.at[i,'Date']\n",
    "            \n",
    "            currMonth = currDate.month\n",
    "            \n",
    "            currYear = currDate.year\n",
    "            \n",
    "            \n",
    "            stats7.at[12,currYear] = temp_yearly_var.at[i,'Observed'+variable]\n",
    "            stats8.at[12,currYear] = temp_yearly_var.at[i,'Model'+variable]\n",
    "        \n",
    "           "
   ]
  }
 ],
 "metadata": {
  "kernelspec": {
   "display_name": "Python 3",
   "language": "python",
   "name": "python3"
  },
  "language_info": {
   "codemirror_mode": {
    "name": "ipython",
    "version": 3
   },
   "file_extension": ".py",
   "mimetype": "text/x-python",
   "name": "python",
   "nbconvert_exporter": "python",
   "pygments_lexer": "ipython3",
   "version": "3.8.5"
  }
 },
 "nbformat": 4,
 "nbformat_minor": 4
}
