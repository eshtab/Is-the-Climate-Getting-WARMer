{
 "cells": [
  {
   "cell_type": "code",
   "execution_count": null,
   "metadata": {},
   "outputs": [],
   "source": [
    "import pandas as pd\n",
    "import datetime as dt\n",
    "import numpy as np\n",
    "import csv\n",
    "import calendar\n",
    "\n",
    "import dash\n",
    "import dash_core_components as dcc\n",
    "import dash_html_components as html\n",
    "\n",
    "import os,sys,inspect\n",
    "from dash.dependencies import Input, Output\n",
    "\n",
    "current_dir = os.path.dirname(os.path.abspath(inspect.getfile(inspect.currentframe())))\n",
    "parent_dir = os.path.dirname(current_dir)\n",
    "sys.path.insert(0, parent_dir) \n",
    "from environmentVariables import environment_variables"
   ]
  },
  {
   "cell_type": "code",
   "execution_count": null,
   "metadata": {},
   "outputs": [],
   "source": [
    "user_key=environment_variables['eshta']\n",
    "pd.set_option('display.precision', 12)"
   ]
  },
  {
   "cell_type": "code",
   "execution_count": null,
   "metadata": {},
   "outputs": [],
   "source": [
    "\n",
    "#variable (change to read user input)\n",
    "variable = 'pr'\n",
    "\n"
   ]
  },
  {
   "cell_type": "code",
   "execution_count": null,
   "metadata": {},
   "outputs": [],
   "source": [
    "#use inputs to select file for climate model\n",
    "\n",
    "# need to figure out the time \n",
    "\n",
    "data=pd.read_csv(user_key['model_raw_clean']+variable+'/'+variable+'_allCONV_extrTO_1986-2005.csv')\n",
    "\n"
   ]
  },
  {
   "cell_type": "code",
   "execution_count": null,
   "metadata": {},
   "outputs": [],
   "source": [
    "# read observational climate csv\n",
    "\n",
    "if variable =='rlds':\n",
    "    observeData=pd.read_csv(user_key['observed_raw_clean']+'POWER-airportlocation_Cleaned.csv')\n",
    "else:\n",
    "    observeData=pd.read_csv(user_key['observed_raw_clean']+'climate-daily-weatherstats_Cleaned.csv')\n"
   ]
  },
  {
   "cell_type": "code",
   "execution_count": null,
   "metadata": {},
   "outputs": [],
   "source": [
    "data['Date'] =  pd.to_datetime(data['Date'], format='%Y-%m-%d')"
   ]
  },
  {
   "cell_type": "code",
   "execution_count": null,
   "metadata": {},
   "outputs": [],
   "source": [
    "# read column based on the variable \n",
    "\n",
    " \n",
    "if variable == 'tas':\n",
    "            #then it is TEMP in the data, find the column\n",
    "    column = 'avg_hourly_temperature'\n",
    "    \n",
    "elif variable == 'pr' :\n",
    "    column = 'precipitation'\n",
    "            \n",
    "elif variable == 'ps' :\n",
    "    column = 'avg_hourly_pressure_station'\n",
    "            \n",
    "elif variable == 'sfcWind' :\n",
    "    column = 'avg_hourly_wind_speed'\n",
    "            \n",
    "elif variable == 'sfcWindmax' :\n",
    "    column = 'max_wind_speed'\n",
    "            \n",
    "elif variable == 'tasmax' :\n",
    "    column = 'max_temperature'\n",
    "            \n",
    "elif variable == 'tasmin' :\n",
    "    column = 'min_temperature'\n",
    "\n",
    "elif variable == 'rlds':\n",
    "    column = 'ALLSKY_SFC_LW_DWN'\n",
    "          \n",
    "\n",
    "row_iterator = observeData.iterrows()\n",
    "counter =0\n",
    "\n",
    "dates = []\n",
    "observedData = []\n",
    "modelData = []\n",
    "\n",
    "#the for loop will loop through the observed data file (weatherstats)\n",
    "for i, row in row_iterator:\n",
    "        if counter != len(observeData):\n",
    "            dates.append(observeData.at[i,'Date'])\n",
    "            observedData.append(observeData.at[i,column])\n",
    "            counter += 1\n",
    "\n",
    "row_ittr2 = data.iterrows()\n",
    "counter =0\n",
    "#the for loop will loop through the model data file \n",
    "for i, row in row_ittr2:\n",
    "         if counter != len(data):\n",
    "            modelData.append(data.at[i,'Variable'])\n",
    "            counter += 1\n",
    "\n",
    "\n",
    "            \n",
    "\n",
    "#now we have all the variables in array now we create a dataframe\n",
    "data_all = pd.DataFrame()\n",
    "data_all.insert(0, 'Date', dates)\n",
    "data_all.insert(1, 'Observed'+variable, observedData)\n",
    "data_all.insert(2, 'Model'+variable, modelData)\n",
    "        \n",
    "print(data_all)"
   ]
  },
  {
   "cell_type": "code",
   "execution_count": null,
   "metadata": {},
   "outputs": [],
   "source": [
    "data_all.to_csv(user_key['projectedvsobserved_mapped']+ variable+'_comparison_output.csv', index=None)"
   ]
  },
  {
   "cell_type": "code",
   "execution_count": null,
   "metadata": {},
   "outputs": [],
   "source": []
  }
 ],
 "metadata": {
  "kernelspec": {
   "display_name": "Python 3",
   "language": "python",
   "name": "python3"
  },
  "language_info": {
   "codemirror_mode": {
    "name": "ipython",
    "version": 3
   },
   "file_extension": ".py",
   "mimetype": "text/x-python",
   "name": "python",
   "nbconvert_exporter": "python",
   "pygments_lexer": "ipython3",
   "version": "3.8.5"
  }
 },
 "nbformat": 4,
 "nbformat_minor": 4
}
