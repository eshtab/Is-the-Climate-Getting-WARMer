{
 "cells": [
  {
   "cell_type": "code",
   "execution_count": 2,
   "metadata": {},
   "outputs": [],
   "source": [
    "# import netCDF4\n",
    "import pandas as pd\n",
    "import datetime as dt\n",
    "import numpy as np\n",
    "import csv\n",
    "import calendar\n",
    "\n",
    "import os,sys,inspect\n",
    "current_dir = os.path.dirname(os.path.abspath(inspect.getfile(inspect.currentframe())))\n",
    "parent_dir = os.path.dirname(current_dir)\n",
    "sys.path.insert(0, parent_dir) \n",
    "from environmentVariables import environment_variables"
   ]
  },
  {
   "cell_type": "code",
   "execution_count": 3,
   "metadata": {},
   "outputs": [],
   "source": [
    "user_key=environment_variables['eshta']\n",
    "pd.set_option('display.precision', 12)"
   ]
  },
  {
   "cell_type": "markdown",
   "metadata": {},
   "source": [
    "# INPUT"
   ]
  },
  {
   "cell_type": "code",
   "execution_count": 4,
   "metadata": {},
   "outputs": [],
   "source": [
    "# read files\n",
    "\n",
    "data_one=pd.read_csv(user_key['model_raw_unclean']+'pr/pr_extrTO_1986-1990.csv')\n",
    "data_two=pd.read_csv(user_key['model_raw_unclean']+'pr/pr_extrTO_1991-1995.csv')\n",
    "data_three=pd.read_csv(user_key['model_raw_unclean']+'pr/pr_extrTO_1996-2000.csv')\n",
    "data_four=pd.read_csv(user_key['model_raw_unclean']+'pr/pr_extrTO_2001-2005.csv')\n"
   ]
  },
  {
   "cell_type": "markdown",
   "metadata": {},
   "source": [
    "# MERGE"
   ]
  },
  {
   "cell_type": "code",
   "execution_count": 5,
   "metadata": {},
   "outputs": [],
   "source": [
    "frames = [data_one, data_two, data_three, data_four]\n",
    "result = pd.concat(frames)"
   ]
  },
  {
   "cell_type": "code",
   "execution_count": 6,
   "metadata": {},
   "outputs": [
    {
     "data": {
      "text/plain": [
       "[            Date      Variable\n",
       " 0     1986-01-01  0.0001428620\n",
       " 1     1986-01-02  0.0000000443\n",
       " 2     1986-01-03  0.0000000314\n",
       " 3     1986-01-04  0.0000000000\n",
       " 4     1986-01-05  0.0000000120\n",
       " ...          ...           ...\n",
       " 1820  1990-12-27  0.0000000000\n",
       " 1821  1990-12-28  0.0000000153\n",
       " 1822  1990-12-29  0.0000000119\n",
       " 1823  1990-12-30  0.0000000000\n",
       " 1824  1990-12-31  0.0000025600\n",
       " \n",
       " [1825 rows x 2 columns],\n",
       "             Date     Variable\n",
       " 0     1991-01-01  0.000014500\n",
       " 1     1991-01-02  0.000036200\n",
       " 2     1991-01-03  0.000008320\n",
       " 3     1991-01-04  0.000000309\n",
       " 4     1991-01-05  0.000001940\n",
       " ...          ...          ...\n",
       " 1820  1995-12-27  0.000001630\n",
       " 1821  1995-12-28  0.000139586\n",
       " 1822  1995-12-29  0.000000301\n",
       " 1823  1995-12-30  0.000000377\n",
       " 1824  1995-12-31  0.000017300\n",
       " \n",
       " [1825 rows x 2 columns],\n",
       "             Date      Variable\n",
       " 0     1996-01-01  0.0000000569\n",
       " 1     1996-01-02  0.0000001680\n",
       " 2     1996-01-03  0.0000371000\n",
       " 3     1996-01-04  0.0000000981\n",
       " 4     1996-01-05  0.0000743000\n",
       " ...          ...           ...\n",
       " 1820  2000-12-27  0.0000189000\n",
       " 1821  2000-12-28  0.0000004730\n",
       " 1822  2000-12-29  0.0000380000\n",
       " 1823  2000-12-30  0.0000000000\n",
       " 1824  2000-12-31  0.0000021600\n",
       " \n",
       " [1825 rows x 2 columns],\n",
       "             Date      Variable\n",
       " 0     2001-01-01  0.0000000000\n",
       " 1     2001-01-02  0.0000031300\n",
       " 2     2001-01-03  0.0000719000\n",
       " 3     2001-01-04  0.0000208000\n",
       " 4     2001-01-05  0.0000831000\n",
       " ...          ...           ...\n",
       " 1820  2005-12-27  0.0000000000\n",
       " 1821  2005-12-28  0.0000000376\n",
       " 1822  2005-12-29  0.0000403000\n",
       " 1823  2005-12-30  0.0000082100\n",
       " 1824  2005-12-31  0.0001298470\n",
       " \n",
       " [1825 rows x 2 columns]]"
      ]
     },
     "execution_count": 6,
     "metadata": {},
     "output_type": "execute_result"
    }
   ],
   "source": [
    "frames"
   ]
  },
  {
   "cell_type": "code",
   "execution_count": 7,
   "metadata": {},
   "outputs": [],
   "source": [
    "result.to_csv(user_key['model_raw_clean']+'pr/pr_all_extrTO_1986-2005.csv', index=None)"
   ]
  },
  {
   "cell_type": "code",
   "execution_count": null,
   "metadata": {},
   "outputs": [],
   "source": []
  },
  {
   "cell_type": "code",
   "execution_count": null,
   "metadata": {},
   "outputs": [],
   "source": []
  },
  {
   "cell_type": "code",
   "execution_count": null,
   "metadata": {},
   "outputs": [],
   "source": []
  }
 ],
 "metadata": {
  "kernelspec": {
   "display_name": "Python 3",
   "language": "python",
   "name": "python3"
  },
  "language_info": {
   "codemirror_mode": {
    "name": "ipython",
    "version": 3
   },
   "file_extension": ".py",
   "mimetype": "text/x-python",
   "name": "python",
   "nbconvert_exporter": "python",
   "pygments_lexer": "ipython3",
   "version": "3.8.5"
  }
 },
 "nbformat": 4,
 "nbformat_minor": 4
}
