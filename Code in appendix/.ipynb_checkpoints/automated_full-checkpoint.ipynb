{
 "cells": [
  {
   "cell_type": "code",
   "execution_count": null,
   "metadata": {},
   "outputs": [],
   "source": [
    "import pandas as pd\n",
    "import datetime as dt\n",
    "import numpy as np\n",
    "import csv\n",
    "import calendar\n",
    "\n",
    "import os,sys,inspect\n",
    "current_dir = os.path.dirname(os.path.abspath(inspect.getfile(inspect.currentframe())))\n",
    "parent_dir = os.path.dirname(current_dir)\n",
    "sys.path.insert(0, parent_dir) \n",
    "from environmentVariables import environment_variables\n"
   ]
  },
  {
   "cell_type": "code",
   "execution_count": null,
   "metadata": {},
   "outputs": [],
   "source": [
    "Userdata=pd.read_csv('AutomatedSteps/userInput.csv', header=[0])\n",
    "SummaryDF = pd.DataFrame(columns=['Variable'])\n",
    "directory_list = list()\n",
    "\n",
    "for root, dirs, files in os.walk(user_key['path_in'], topdown=False):\n",
    "    for name in dirs:\n",
    "        directory_list.append(name)\n",
    "\n",
    "print(directory_list)\n",
    "\n",
    "for col in Userdata.columns:\n",
    "    #if the column name exists in the data variables then add to list\n",
    "    \n",
    "    if col == 'T2M':\n",
    "        col = 'tas'\n",
    "    elif col == 'PRECTOTCORR' :\n",
    "        col = 'pr'\n",
    "    elif col == 'PS' :\n",
    "        col = 'ps'\n",
    "    elif col == 'WS10M' :\n",
    "        col = 'sfcWind'\n",
    "    elif col == 'WS10M_MAX' :\n",
    "        col = 'sfcWindmax'\n",
    "    elif col == 'T2M_MAX' :\n",
    "        col = 'tasmax'\n",
    "    elif col == 'T2M_MIN' :\n",
    "        col = 'tasmin'\n",
    "    elif col == 'ALLSKY_SFC_LW_DWN':\n",
    "        col = 'rlds'\n",
    "    #col = col.lower()\n",
    "    print(col)\n",
    "    if col in directory_list:\n",
    "        \n",
    "        SummaryDF = SummaryDF.append({'Variable':col}, ignore_index=True)\n",
    "\n",
    "print(SummaryDF)\n",
    "\n",
    "\n",
    "\n",
    "#logic to create an output for data \n",
    "\n",
    "#create counts \n",
    "\n",
    "outputDF = pd.DataFrame(columns=['Column'])\n",
    "NA = []\n",
    "blanks = []\n",
    " \n",
    "for col in Userdata.columns:\n",
    "    #use each column\n",
    "   \n",
    "    tempNA = 0\n",
    "    tempBlanks = 0\n",
    "    outputDF = outputDF.append({'Column': col}, ignore_index=True)\n",
    "    for index, row in Userdata.iterrows():\n",
    "        #look at each item in each column\n",
    "        if Userdata.loc[index,col] == -999 :\n",
    "            tempNA = tempNA + 1\n",
    "        \n",
    "        if Userdata.loc[index,col] == '' :\n",
    "            tempBlanks = tempBlanks + 1\n",
    "            \n",
    "    print(tempNA)\n",
    "    NA.append(tempNA)\n",
    "    blanks.append(tempBlanks)\n",
    "\n",
    "print(NA)\n",
    "print(outputDF)\n",
    "print(blanks)\n",
    "outputDF['Nulls'] = NA\n",
    "outputDF['Blanks'] = blanks \n",
    "    "
   ]
  },
  {
   "cell_type": "code",
   "execution_count": null,
   "metadata": {},
   "outputs": [],
   "source": [
    "SummaryDF.to_csv('AutomatedSteps/variableList.csv', index=None)\n",
    "outputDF.to_csv('AutomatedSteps/outputFeedback.csv', index=None)"
   ]
  },
  {
   "cell_type": "code",
   "execution_count": null,
   "metadata": {},
   "outputs": [],
   "source": [
    "# step1.csv_data_extraction_CRCM"
   ]
  },
  {
   "cell_type": "code",
   "execution_count": null,
   "metadata": {},
   "outputs": [],
   "source": [
    "import pandas as pd\n",
    "import datetime as dt\n",
    "import numpy as np\n",
    "import csv\n",
    "import calendar\n",
    "\n",
    "import os,sys,inspect\n",
    "current_dir = os.path.dirname(os.path.abspath(inspect.getfile(inspect.currentframe())))\n",
    "parent_dir = os.path.dirname(current_dir)\n",
    "sys.path.insert(0, parent_dir) \n",
    "from environmentVariables import environment_variables"
   ]
  },
  {
   "cell_type": "code",
   "execution_count": null,
   "metadata": {},
   "outputs": [],
   "source": [
    "# read files\n",
    "\n",
    "#we must automate all the files here\n",
    "\n",
    "#the variable decides which file to select as data\n",
    "#load in the csv with the selected options\n",
    "selections=pd.read_csv('AutomatedSteps/optionSelection.csv', header=[0])\n",
    "#now we allocate all variables (rlat,rlong,variable)\n",
    "variable = \"\"\n",
    "rlat = 0\n",
    "rlong = 0\n",
    "for index, row in selections.iterrows():\n",
    "    if selections.at[index,'option'] == 'rlat':\n",
    "        rlat = selections.at[index,'selection']\n",
    "    if selections.at[index,'option'] == 'rlong':\n",
    "        rlong = selections.at[index,'selection']\n",
    "    if selections.at[index,'option'] == 'variable':\n",
    "        variable = selections.at[index,'selection']\n",
    "    if selections.at[index,'option'] == 'startDate':\n",
    "        startDate = selections.at[index,'selection']\n",
    "    if selections.at[index,'option'] == 'endDate':\n",
    "        endDate = selections.at[index,'selection']\n",
    "    if selections.at[index,'option'] == 'currYear':\n",
    "        currYear = selections.at[index,'selection']\n",
    "        \n",
    "#now that selections are set we continue\n",
    "#decide file based on date\n",
    "rlat = int(rlat)\n",
    "rlong = int(rlong)\n",
    "#now based on how many files exist with variable name and date\n",
    "if currYear == '1986':\n",
    "    print(\"1986 here\")\n",
    "    dtStr = \"19860101-19901231\"\n",
    "    dtOutStr = \"1986-1990\"\n",
    "elif currYear == '1991':\n",
    "    dtStr = \"19910101-19951231\"\n",
    "    dtOutStr = \"1991-1995\"\n",
    "elif currYear == '1996':\n",
    "    dtStr = \"19960101-20001231\"\n",
    "    dtOutStr = \"1996-2000\"\n",
    "elif currYear == '2001':\n",
    "    dtStr = \"20010101-20051231\"\n",
    "    dtOutStr = \"2001-2005\"\n",
    "\n",
    "    \n",
    "\n",
    "    \n",
    "data=pd.read_csv(user_key['path_in']+ variable + '/' + variable + '_' + dtStr + '.csv', header=None)\n",
    "data_time = pd.read_csv(user_key['path_in']+ variable + '/' +'time_' + dtStr + '.csv', header=None)\n"
   ]
  },
  {
   "cell_type": "code",
   "execution_count": null,
   "metadata": {},
   "outputs": [],
   "source": [
    "# Input list initialization\n",
    "input_list = [1950, 1951, 1952, 1953, 1954, 1955,\n",
    "         1956, 1957, 1958, 1959, 1960,\n",
    "         1961, 1962, 1963, 1964, 1965, \n",
    "         1966, 1967, 1968, 1969, 1970, \n",
    "         1971, 1972, 1973, 1974, 1975, \n",
    "         1976, 1977, 1978, 1979, 1980, \n",
    "         1981, 1982, 1983, 1984, 1985\n",
    "        ,1986, 1987, 1988, 1989, 1990\n",
    "        ,1991, 1992, 1993, 1994, 1995\n",
    "        ,1996, 1997, 1998, 1999, 2000\n",
    "        ]"
   ]
  },
  {
   "cell_type": "code",
   "execution_count": null,
   "metadata": {},
   "outputs": [],
   "source": [
    "def findLeapYear(input_list):\n",
    "    ans = 0\n",
    "    for elem in input_list:\n",
    "        if calendar.isleap(int(elem)):\n",
    "            ans = ans + 1\n",
    "    return ans\n",
    "\n",
    "numleap = findLeapYear(input_list)\n",
    "print(numleap)"
   ]
  },
  {
   "cell_type": "code",
   "execution_count": null,
   "metadata": {},
   "outputs": [],
   "source": [
    "# Extract based on rlat and rlon"
   ]
  },
  {
   "cell_type": "code",
   "execution_count": null,
   "metadata": {},
   "outputs": [],
   "source": [
    "rlon_x = rlong \n",
    "rlat_y = rlat  \n",
    "counter = 0\n",
    "\n",
    "list_of_vars = []\n",
    "\n",
    " \n",
    "while (rlat_y+counter) < len(data)-1:\n",
    "    var = data.iloc[rlat_y+counter, rlon_x]\n",
    "    list_of_vars.append(var)\n",
    "        \n",
    "    counter+=260 \n",
    "\n",
    "len(list_of_vars) "
   ]
  },
  {
   "cell_type": "code",
   "execution_count": null,
   "metadata": {},
   "outputs": [],
   "source": [
    "#read data_time and transpose into column and append variable and date info to new df\n",
    "data_all = data_time.transpose()\n",
    "data_all.insert(1, 'Variable', list_of_vars)\n",
    "data_all = data_all.rename(columns={0: 'Date'})"
   ]
  },
  {
   "cell_type": "code",
   "execution_count": null,
   "metadata": {},
   "outputs": [],
   "source": [
    "# Change time units -"
   ]
  },
  {
   "cell_type": "code",
   "execution_count": null,
   "metadata": {},
   "outputs": [],
   "source": [
    "# change time units from 'days since 12/01/1949' to actual date\n",
    "startdate = \"12/01/1949\"\n",
    "row_iterator = data_all.iterrows()\n",
    "counter = 1\n",
    "\n",
    "for i, row in row_iterator:\n",
    "    if counter != len(data_all)+1:\n",
    "        #temp = pd.to_datetime(startdate) + pd.DateOffset(days=data_all.at[i, 'Date']+9)\n",
    "        #if temp.month != 2 and temp.day != 29:\n",
    "            #data_all.at[i, 'Date_new'] = pd.to_datetime(temp)\n",
    "        data_all.at[i, 'Date_new'] = pd.to_datetime(startdate) + \\\n",
    "                                     pd.DateOffset(days=data_all.at[i, 'Date']+numleap)\n",
    "            #data_all.at[i, 'Date_new2'] = pd.to_datetime(data_all.at[i, 'Date_new']) + pd.DateOffset(days=9)\n",
    "            \n",
    "    counter += 1\n",
    "\n",
    "data_all['Date_new'] = pd.to_datetime(data_all['Date_new']).dt.date"
   ]
  },
  {
   "cell_type": "code",
   "execution_count": null,
   "metadata": {},
   "outputs": [],
   "source": [
    "# flag leap years\n",
    "\n",
    "row_iterator = data_all.iterrows()\n",
    "counter = 1\n",
    "\n",
    "for i, row in row_iterator:\n",
    "    if counter != len(data_all)+1:\n",
    "        if data_all.at[i, 'Date_new'].month == 2 and data_all.at[i, 'Date_new'].day == 29:\n",
    "             data_all.at[i, 'flag'] = 'flag'\n",
    "\n",
    "    counter += 1"
   ]
  },
  {
   "cell_type": "code",
   "execution_count": null,
   "metadata": {},
   "outputs": [],
   "source": [
    "# if flag, change flagged date to +1\n",
    "\n",
    "row_iterator = data_all.iterrows()\n",
    "counter2 = 1\n",
    "\n",
    "for i, row in row_iterator:\n",
    "    if counter2 != len(data_all)+1:\n",
    "        if data_all.at[i, 'flag'] == 'flag':\n",
    "            data_all.at[i, 'Date_2'] = data_all.at[i+1, 'Date_new']\n",
    "    counter2+=1   "
   ]
  },
  {
   "cell_type": "code",
   "execution_count": null,
   "metadata": {},
   "outputs": [],
   "source": [
    "# copy over date from before if Date_2 is null \n",
    "# otherwise keep the value in Date_2\n",
    "\n",
    "row_iterator = data_all.iterrows()\n",
    "counter3 = 1\n",
    "numberofflags = 0\n",
    "\n",
    "for i, row in row_iterator:\n",
    "    if counter3 != len(data_all)+1:\n",
    "        if data_all.at[i, 'flag'] == 'flag':\n",
    "            numberofflags+=1\n",
    "        temp = data_all.at[i, 'Date_new'] + pd.DateOffset(days=numberofflags)\n",
    "        if (temp.month == 2 and temp.day == 29):\n",
    "            data_all.at[i, 'Date_2'] = data_all.at[i, 'Date_new'] + pd.DateOffset(days=numberofflags+1)\n",
    "        else:\n",
    "            data_all.at[i, 'Date_2'] = data_all.at[i, 'Date_new'] + pd.DateOffset(days=numberofflags)\n",
    "\n",
    "\n",
    "    counter3+=1\n",
    "\n",
    "data_all['Date_2'] = pd.to_datetime(data_all['Date_2']).dt.date"
   ]
  },
  {
   "cell_type": "code",
   "execution_count": null,
   "metadata": {},
   "outputs": [],
   "source": [
    "# OUTPUT"
   ]
  },
  {
   "cell_type": "code",
   "execution_count": null,
   "metadata": {},
   "outputs": [],
   "source": [
    "# delete unnecessary columns\n",
    "del data_all['Date']\n",
    "del data_all['Date_new']\n",
    "del data_all['flag']\n",
    "\n",
    "# rename column\n",
    "data_all = data_all.rename(columns={'Date_2': 'Date'})"
   ]
  },
  {
   "cell_type": "code",
   "execution_count": null,
   "metadata": {},
   "outputs": [],
   "source": [
    "# reorder column\n",
    "data_all = data_all[['Date', 'Variable']]"
   ]
  },
  {
   "cell_type": "code",
   "execution_count": null,
   "metadata": {},
   "outputs": [],
   "source": [
    "data_all.to_csv('AutomatedSteps/' + variable +'_'+dtOutStr +'.csv', index=None)"
   ]
  },
  {
   "cell_type": "code",
   "execution_count": null,
   "metadata": {},
   "outputs": [],
   "source": [
    "# step2.combine_years_into_one_var_file"
   ]
  },
  {
   "cell_type": "code",
   "execution_count": null,
   "metadata": {},
   "outputs": [],
   "source": [
    "import pandas as pd\n",
    "import datetime as dt\n",
    "import numpy as np\n",
    "import csv\n",
    "import calendar\n",
    "\n",
    "import os,sys,inspect\n",
    "current_dir = os.path.dirname(os.path.abspath(inspect.getfile(inspect.currentframe())))\n",
    "parent_dir = os.path.dirname(current_dir)\n",
    "sys.path.insert(0, parent_dir) \n",
    "from environmentVariables import environment_variables"
   ]
  },
  {
   "cell_type": "code",
   "execution_count": null,
   "metadata": {},
   "outputs": [],
   "source": [
    "# read files\n",
    "\n",
    "#this will be based on variable in the user input\n",
    "\n",
    "\n",
    "selections=pd.read_csv('AutomatedSteps/optionSelection.csv', header=[0])\n",
    "\n",
    "\n",
    "for index, row in selections.iterrows():\n",
    "    if selections.at[index,'option'] == 'variable':\n",
    "        variable = selections.at[index,'selection']\n",
    "\n",
    "data_one=pd.read_csv('AutomatedSteps/'+ variable + '_1986-1990.csv')\n",
    "data_two=pd.read_csv('AutomatedSteps/'+ variable + '_1991-1995.csv')\n",
    "data_three=pd.read_csv('AutomatedSteps/'+ variable + '_1996-2000.csv')\n",
    "data_four=pd.read_csv('AutomatedSteps/'+ variable + '_2001-2005.csv')\n"
   ]
  },
  {
   "cell_type": "code",
   "execution_count": null,
   "metadata": {},
   "outputs": [],
   "source": [
    "# merge\n",
    "frames = [data_one, data_two, data_three, data_four]\n",
    "result = pd.concat(frames)"
   ]
  },
  {
   "cell_type": "code",
   "execution_count": null,
   "metadata": {},
   "outputs": [],
   "source": [
    "result.to_csv('AutomatedSteps/'+ variable + '.csv', index=None)\n",
    "\n",
    "#clean up and delete those files\n",
    "os.remove('AutomatedSteps/'+ variable + '_1986-1990.csv')\n",
    "os.remove('AutomatedSteps/'+ variable + '_1991-1995.csv')\n",
    "os.remove('AutomatedSteps/'+ variable + '_1996-2000.csv')\n",
    "os.remove('AutomatedSteps/'+ variable + '_2001-2005.csv')"
   ]
  },
  {
   "cell_type": "code",
   "execution_count": null,
   "metadata": {},
   "outputs": [],
   "source": [
    "# step3.Unit_Conversion"
   ]
  },
  {
   "cell_type": "code",
   "execution_count": null,
   "metadata": {},
   "outputs": [],
   "source": [
    "import pandas as pd\n",
    "import datetime as dt\n",
    "import numpy as np\n",
    "import csv\n",
    "import calendar\n",
    "\n",
    "import os,sys,inspect\n",
    "current_dir = os.path.dirname(os.path.abspath(inspect.getfile(inspect.currentframe())))\n",
    "parent_dir = os.path.dirname(current_dir)\n",
    "sys.path.insert(0, parent_dir) "
   ]
  },
  {
   "cell_type": "code",
   "execution_count": null,
   "metadata": {},
   "outputs": [],
   "source": [
    "# read files\n",
    "selections=pd.read_csv('AutomatedSteps/optionSelection.csv', header=[0])\n",
    "for index, row in selections.iterrows():\n",
    "    if selections.at[index,'option'] == 'variable':\n",
    "        variable = selections.at[index,'selection']\n",
    "        \n",
    "        \n",
    "data=pd.read_csv('AutomatedSteps/'+variable +'.csv')\n",
    "observedData=pd.read_csv('AutomatedSteps/userInput.csv')\n",
    "\n",
    "# conversion equation based on variable name\n",
    "variableName = variable"
   ]
  },
  {
   "cell_type": "code",
   "execution_count": null,
   "metadata": {},
   "outputs": [],
   "source": [
    "\n",
    "# loop through the rows creating a new converted column    \n",
    "row_iterator = data.iterrows()   \n",
    "for i, row in row_iterator:\n",
    "    currVar = (data.at[i,'Variable'])\n",
    "    if (currVar != \"Variable\" ):\n",
    "        if (variableName == \"pr\"):\n",
    "            #1 kg/m2/s = 86400 mm/day\n",
    "            data.at[i, 'Variable_converted'] = (float(currVar) *  (86400))\n",
    "        elif (variableName == \"ps\"):\n",
    "            #1 pa\t0.001 kP\n",
    "             data.at[i, 'Variable_converted'] = (float(currVar) *  (0.001))\n",
    "        elif (variableName == \"rlds\"):\n",
    "            data.at[i, 'Variable_converted'] = (float(currVar))\n",
    "        elif (variableName == \"sfcWind\"):\n",
    "            #1 m/s\t3.6km/h\n",
    "            data.at[i, 'Variable_converted'] = (float(currVar) *  (3.6))\n",
    "        elif (variableName == \"sfcWindmax\"):\n",
    "            #1 m/s\t3.6km/h\n",
    "            data.at[i, 'Variable_converted'] = (float(currVar) *  (3.6))\n",
    "        elif (variableName == \"tas\"):\n",
    "            # 1K = -273 degrees celsius\n",
    "            data.at[i, 'Variable_converted'] = (float(currVar) - (273.15))\n",
    "        elif (variableName == \"tasmax\"):\n",
    "            # 1K = -273 degrees celsius\n",
    "            data.at[i, 'Variable_converted'] = (float(currVar) - (273.15))\n",
    "        elif (variableName == \"tasmin\"):\n",
    "            # 1K = -273 degrees celsius\n",
    "            data.at[i, 'Variable_converted'] = (float(currVar) - (273.15))\n",
    "                                  \n",
    "        \n",
    "#print(data)\n",
    "\n",
    "row_iterator2 = observedData.iterrows()   \n",
    "for i, row in row_iterator2:\n",
    "    if (variableName == \"sfcWind\"):\n",
    "        currVar = (observedData.at[i,'WS10M'])\n",
    "        #1 m/s\t3.6km/h\n",
    "        observedData.at[i, 'WS10M'] = (float(currVar) *  (3.6))\n",
    "    elif (variableName == \"sfcWindmax\"):\n",
    "        currVar = (observedData.at[i,'WS10M_MAX'])\n",
    "        #1 m/s\t3.6km/h\n",
    "        observedData.at[i, 'WS10M_MAX'] = (float(currVar) *  (3.6))\n",
    "                        \n",
    "#print(observedData)"
   ]
  },
  {
   "cell_type": "code",
   "execution_count": null,
   "metadata": {},
   "outputs": [],
   "source": [
    "# delete unnecessary columns\n",
    "del data['Variable']\n",
    "\n",
    "# rename column\n",
    "data = data.rename(columns={'Variable_converted': 'Variable'})"
   ]
  },
  {
   "cell_type": "code",
   "execution_count": null,
   "metadata": {},
   "outputs": [],
   "source": [
    "data.to_csv('AutomatedSteps/'+variable +'_converted.csv', index=None)\n",
    "observedData.to_csv('AutomatedSteps/userInput.csv', index=None)"
   ]
  },
  {
   "cell_type": "code",
   "execution_count": null,
   "metadata": {},
   "outputs": [],
   "source": [
    "# step4.mapping_model_to_observed"
   ]
  },
  {
   "cell_type": "code",
   "execution_count": null,
   "metadata": {},
   "outputs": [],
   "source": [
    "import pandas as pd\n",
    "import datetime as dt\n",
    "import numpy as np\n",
    "import csv\n",
    "import calendar\n",
    "\n",
    "import dash\n",
    "import dash_core_components as dcc\n",
    "import dash_html_components as html\n",
    "\n",
    "import os,sys,inspect\n",
    "from dash.dependencies import Input, Output\n",
    "\n",
    "current_dir = os.path.dirname(os.path.abspath(inspect.getfile(inspect.currentframe())))\n",
    "parent_dir = os.path.dirname(current_dir)\n",
    "sys.path.insert(0, parent_dir) \n",
    "from environmentVariables import environment_variables"
   ]
  },
  {
   "cell_type": "code",
   "execution_count": null,
   "metadata": {},
   "outputs": [],
   "source": [
    "#use inputs to select file for climate model\n",
    "selections=pd.read_csv('AutomatedSteps/optionSelection.csv', header=[0])\n",
    "for index, row in selections.iterrows():\n",
    "    if selections.at[index,'option'] == 'variable':\n",
    "        variable = selections.at[index,'selection']\n",
    "        \n",
    "\n",
    "data=pd.read_csv('AutomatedSteps/'+variable+'_converted.csv')\n",
    "\n"
   ]
  },
  {
   "cell_type": "code",
   "execution_count": null,
   "metadata": {},
   "outputs": [],
   "source": [
    "# read observational climate csv provided by user\n",
    "\n",
    "observeData=pd.read_csv('AutomatedSteps/userInput.csv')\n"
   ]
  },
  {
   "cell_type": "code",
   "execution_count": null,
   "metadata": {},
   "outputs": [],
   "source": [
    "data['Date'] =  pd.to_datetime(data['Date'], format='%Y-%m-%d')"
   ]
  },
  {
   "cell_type": "code",
   "execution_count": null,
   "metadata": {},
   "outputs": [],
   "source": [
    "# read column based on the variable \n",
    "\n",
    " \n",
    "if variable == 'tas':\n",
    "            #then it is TEMP in the data, find the column\n",
    "    column = 'T2M'\n",
    "    \n",
    "elif variable == 'pr' :\n",
    "    column = 'PRECTOTCORR'\n",
    "            \n",
    "elif variable == 'ps' :\n",
    "    column = 'PS'\n",
    "            \n",
    "elif variable == 'sfcWind' :\n",
    "    column = 'WS10M'\n",
    "            \n",
    "elif variable == 'sfcWindmax' :\n",
    "    column = 'WS10M_MAX'\n",
    "            \n",
    "elif variable == 'tasmax' :\n",
    "    column = 'T2M_MAX'\n",
    "            \n",
    "elif variable == 'tasmin' :\n",
    "    column = 'T2M_MIN'\n",
    "\n",
    "elif variable == 'rlds':\n",
    "    column = 'ALLSKY_SFC_LW_DWN'\n",
    "          \n",
    "\n",
    "row_iterator = observeData.iterrows()\n",
    "counter =0\n",
    "\n",
    "dates = []\n",
    "observedData = []\n",
    "modelData = []\n",
    "\n",
    "#the for loop will loop through the observed data file (weatherstats)\n",
    "for i, row in row_iterator:\n",
    "        if counter != len(observeData):\n",
    "            dtTemp = str(observeData.at[i,'YEAR']) + \"-\" + str(observeData.at[i,'MO']) + \"-\" + str(observeData.at[i,'DY']) \n",
    "            if(str(observeData.at[i,'MO']) == '2' and str(observeData.at[i,'DY']) == '29'):\n",
    "                print(\"skipped : \" + dtTemp)\n",
    "            else:\n",
    "                dates.append(dtTemp)\n",
    "                observedData.append(observeData.at[i,column])\n",
    "                counter += 1\n",
    "\n",
    "row_ittr2 = data.iterrows()\n",
    "counter =0\n",
    "#the for loop will loop through the model data file \n",
    "for i, row in row_ittr2:\n",
    "         if counter != len(data):\n",
    "            modelData.append(data.at[i,'Variable'])\n",
    "            counter += 1\n",
    "\n",
    "\n",
    "            \n",
    "\n",
    "#now we have all the variables in array now we create a dataframe\n",
    "data_all = pd.DataFrame()\n",
    "data_all.insert(0, 'Date', dates)\n",
    "data_all.insert(1, 'Observed'+variable, observedData)\n",
    "data_all.insert(2, 'Model'+variable, modelData)\n",
    "        \n",
    "#print(data_all)"
   ]
  },
  {
   "cell_type": "code",
   "execution_count": null,
   "metadata": {},
   "outputs": [],
   "source": [
    "data_all.to_csv('AutomatedSteps/'+variable+'_comparison.csv', index=None)"
   ]
  },
  {
   "cell_type": "code",
   "execution_count": null,
   "metadata": {},
   "outputs": [],
   "source": [
    "# Step5.biascalc"
   ]
  },
  {
   "cell_type": "code",
   "execution_count": null,
   "metadata": {},
   "outputs": [],
   "source": [
    "import pandas as pd\n",
    "import datetime as dt\n",
    "import numpy as np\n",
    "import csv\n",
    "import calendar\n",
    "\n",
    "import dash\n",
    "import dash_core_components as dcc\n",
    "import dash_html_components as html\n",
    "\n",
    "import os,sys,inspect\n",
    "from dash.dependencies import Input, Output\n",
    "\n",
    "current_dir = os.path.dirname(os.path.abspath(inspect.getfile(inspect.currentframe())))\n",
    "parent_dir = os.path.dirname(current_dir)\n",
    "sys.path.insert(0, parent_dir) \n"
   ]
  },
  {
   "cell_type": "code",
   "execution_count": null,
   "metadata": {},
   "outputs": [],
   "source": [
    "selections=pd.read_csv('AutomatedSteps/optionSelection.csv', header=[0])\n",
    "for index, row in selections.iterrows():\n",
    "    if selections.at[index,'option'] == 'variable':\n",
    "        variable = selections.at[index,'selection']\n",
    "        \n",
    "data=pd.read_csv('AutomatedSteps/'+variable+'_comparison.csv')\n",
    "\n",
    "biasData = data['Model'+variable] - data['Observed'+variable]\n",
    "\n",
    "data[\"Bias\"] = biasData\n",
    "data.to_csv('AutomatedSteps/'+variable+'_comparison_bias.csv', index=None)\n"
   ]
  }
 ],
 "metadata": {
  "kernelspec": {
   "display_name": "Python 3",
   "language": "python",
   "name": "python3"
  },
  "language_info": {
   "codemirror_mode": {
    "name": "ipython",
    "version": 3
   },
   "file_extension": ".py",
   "mimetype": "text/x-python",
   "name": "python",
   "nbconvert_exporter": "python",
   "pygments_lexer": "ipython3",
   "version": "3.8.5"
  }
 },
 "nbformat": 4,
 "nbformat_minor": 4
}
